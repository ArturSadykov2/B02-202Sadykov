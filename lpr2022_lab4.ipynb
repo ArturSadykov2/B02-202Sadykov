{
 "cells": [
  {
   "cell_type": "markdown",
   "metadata": {},
   "source": [
    "# Библиотека numpy"
   ]
  },
  {
   "cell_type": "markdown",
   "metadata": {},
   "source": [
    "**NumPy** — это библиотека языка Python, добавляющая поддержку больших многомерных массивов и матриц, вместе с большой библиотекой высокоуровневых (и очень быстрых) математических функций для операций с этими массивами."
   ]
  },
  {
   "cell_type": "markdown",
   "metadata": {},
   "source": [
    "Основным объектом NumPy является однородный многомерный массив (в numpy называется numpy.ndarray). Это многомерный массив элементов (обычно чисел), одного типа.\n",
    "\n",
    "Наиболее важные атрибуты объектов ndarray:\n",
    "\n",
    "**ndarray.ndim** - число измерений (чаще их называют \"оси\") массива.\n",
    "\n",
    "**ndarray.shape** - размеры массива, его форма. Это кортеж натуральных чисел, показывающий длину массива по каждой оси. Для матрицы из n строк и m столбов, shape будет (n,m). Число элементов кортежа shape равно ndim.\n",
    "\n",
    "**ndarray.size** - количество элементов массива. Очевидно, равно произведению всех элементов атрибута shape.\n",
    "\n",
    "**ndarray.dtype** - объект, описывающий тип элементов массива. Можно определить dtype, используя стандартные типы данных Python. NumPy здесь предоставляет целый букет возможностей, как встроенных, например: bool_, character, int8, int16, int32, int64, float8, float16, float32, float64, complex64, object_, так и возможность определить собственные типы данных, в том числе и составные.\n",
    "\n",
    "**ndarray.itemsize** - размер каждого элемента массива в байтах."
   ]
  },
  {
   "cell_type": "markdown",
   "metadata": {},
   "source": [
    "# Создание массивов"
   ]
  },
  {
   "cell_type": "markdown",
   "metadata": {},
   "source": [
    "В NumPy существует много способов создать массив. Один из наиболее простых - создать массив из обычных списков или кортежей Python, используя функцию numpy.array() (запомните: array - функция, создающая объект типа ndarray):"
   ]
  },
  {
   "cell_type": "code",
   "execution_count": 4,
   "metadata": {},
   "outputs": [
    {
     "data": {
      "text/plain": [
       "array([1, 2, 3])"
      ]
     },
     "execution_count": 4,
     "metadata": {},
     "output_type": "execute_result"
    }
   ],
   "source": [
    "import numpy as np\n",
    "\n",
    "a = np.array([1, 2, 3])\n",
    "a"
   ]
  },
  {
   "cell_type": "code",
   "execution_count": 5,
   "metadata": {},
   "outputs": [
    {
     "data": {
      "text/plain": [
       "numpy.ndarray"
      ]
     },
     "execution_count": 5,
     "metadata": {},
     "output_type": "execute_result"
    }
   ],
   "source": [
    "type(a)"
   ]
  },
  {
   "cell_type": "markdown",
   "metadata": {},
   "source": [
    "Функция array() трансформирует вложенные последовательности в многомерные массивы. Тип элементов массива зависит от типа элементов исходной последовательности (но можно и переопределить его в момент создания)."
   ]
  },
  {
   "cell_type": "code",
   "execution_count": 6,
   "metadata": {},
   "outputs": [
    {
     "data": {
      "text/plain": [
       "array([[1.5, 2. , 3. ],\n",
       "       [4. , 5. , 6. ]])"
      ]
     },
     "execution_count": 6,
     "metadata": {},
     "output_type": "execute_result"
    }
   ],
   "source": [
    "b = np.array([[1.5, 2, 3], [4, 5, 6]])\n",
    "b"
   ]
  },
  {
   "cell_type": "markdown",
   "metadata": {},
   "source": [
    "Можно также переопределить тип в момент создания:"
   ]
  },
  {
   "cell_type": "code",
   "execution_count": 7,
   "metadata": {},
   "outputs": [
    {
     "name": "stderr",
     "output_type": "stream",
     "text": [
      "C:\\Users\\artur\\AppData\\Local\\Temp\\ipykernel_11220\\2311286893.py:1: DeprecationWarning: `np.complex` is a deprecated alias for the builtin `complex`. To silence this warning, use `complex` by itself. Doing this will not modify any behavior and is safe. If you specifically wanted the numpy scalar type, use `np.complex128` here.\n",
      "Deprecated in NumPy 1.20; for more details and guidance: https://numpy.org/devdocs/release/1.20.0-notes.html#deprecations\n",
      "  b = np.array([[1.5, 2, 3], [4, 5, 6]], dtype=np.complex)\n"
     ]
    },
    {
     "data": {
      "text/plain": [
       "array([[1.5+0.j, 2. +0.j, 3. +0.j],\n",
       "       [4. +0.j, 5. +0.j, 6. +0.j]])"
      ]
     },
     "execution_count": 7,
     "metadata": {},
     "output_type": "execute_result"
    }
   ],
   "source": [
    "b = np.array([[1.5, 2, 3], [4, 5, 6]], dtype=np.complex)\n",
    "b"
   ]
  },
  {
   "cell_type": "markdown",
   "metadata": {},
   "source": [
    "Функция array() не единственная функция для создания массивов. Обычно элементы массива вначале неизвестны, а массив, в котором они будут храниться, уже нужен. Поэтому имеется несколько функций для того, чтобы создавать массивы с каким-то исходным содержимым (по умолчанию тип создаваемого массива — float64).\n",
    "\n",
    "Функция zeros() создает массив из нулей, а функция ones() — массив из единиц. Обе функции принимают кортеж с размерами, и аргумент dtype:"
   ]
  },
  {
   "cell_type": "code",
   "execution_count": 8,
   "metadata": {},
   "outputs": [
    {
     "data": {
      "text/plain": [
       "array([[0., 0., 0., 0., 0.],\n",
       "       [0., 0., 0., 0., 0.],\n",
       "       [0., 0., 0., 0., 0.]])"
      ]
     },
     "execution_count": 8,
     "metadata": {},
     "output_type": "execute_result"
    }
   ],
   "source": [
    "a = np.zeros((3, 5))\n",
    "a"
   ]
  },
  {
   "cell_type": "code",
   "execution_count": 9,
   "metadata": {},
   "outputs": [
    {
     "data": {
      "text/plain": [
       "array([[[1., 1.],\n",
       "        [1., 1.]],\n",
       "\n",
       "       [[1., 1.],\n",
       "        [1., 1.]]])"
      ]
     },
     "execution_count": 9,
     "metadata": {},
     "output_type": "execute_result"
    }
   ],
   "source": [
    "a = np.ones((2, 2, 2))\n",
    "a"
   ]
  },
  {
   "cell_type": "markdown",
   "metadata": {},
   "source": [
    "Функция eye() создаёт единичную матрицу (двумерный массив)"
   ]
  },
  {
   "cell_type": "code",
   "execution_count": 10,
   "metadata": {},
   "outputs": [
    {
     "data": {
      "text/plain": [
       "array([[1., 0., 0., 0., 0.],\n",
       "       [0., 1., 0., 0., 0.],\n",
       "       [0., 0., 1., 0., 0.],\n",
       "       [0., 0., 0., 1., 0.],\n",
       "       [0., 0., 0., 0., 1.]])"
      ]
     },
     "execution_count": 10,
     "metadata": {},
     "output_type": "execute_result"
    }
   ],
   "source": [
    "a = np.eye(5)\n",
    "a"
   ]
  },
  {
   "cell_type": "markdown",
   "metadata": {},
   "source": [
    "Функция empty() создает массив без его заполнения. Исходное содержимое случайно и зависит от состояния памяти на момент создания массива (то есть от того мусора, что в ней хранится):"
   ]
  },
  {
   "cell_type": "code",
   "execution_count": 11,
   "metadata": {},
   "outputs": [
    {
     "data": {
      "text/plain": [
       "array([[4.67296746e-307, 1.69121096e-306, 1.78021391e-306],\n",
       "       [1.89146896e-307, 7.56571288e-307, 3.11525958e-307],\n",
       "       [1.24610723e-306, 1.29061142e-306, 7.87260439e-312]])"
      ]
     },
     "execution_count": 11,
     "metadata": {},
     "output_type": "execute_result"
    }
   ],
   "source": [
    "a = np.empty((3, 3))\n",
    "a"
   ]
  },
  {
   "cell_type": "markdown",
   "metadata": {},
   "source": [
    "Для создания последовательностей чисел, в NumPy имеется функция arange(), аналогичная встроенной в Python range(), только вместо списков она возвращает массивы, и принимает не только целые значения:"
   ]
  },
  {
   "cell_type": "code",
   "execution_count": 12,
   "metadata": {},
   "outputs": [
    {
     "data": {
      "text/plain": [
       "array([10, 15, 20, 25])"
      ]
     },
     "execution_count": 12,
     "metadata": {},
     "output_type": "execute_result"
    }
   ],
   "source": [
    "a = np.arange(10, 30, 5)\n",
    "a"
   ]
  },
  {
   "cell_type": "code",
   "execution_count": 13,
   "metadata": {},
   "outputs": [
    {
     "data": {
      "text/plain": [
       "array([0. , 0.1, 0.2, 0.3, 0.4, 0.5, 0.6, 0.7, 0.8, 0.9])"
      ]
     },
     "execution_count": 13,
     "metadata": {},
     "output_type": "execute_result"
    }
   ],
   "source": [
    "a = np.arange(0, 1, 0.1)\n",
    "a"
   ]
  },
  {
   "cell_type": "markdown",
   "metadata": {},
   "source": [
    "Вообще, при использовании arange() с аргументами типа float, сложно быть уверенным в том, сколько элементов будет получено (из-за ограничения точности чисел с плавающей запятой). Поэтому, в таких случаях обычно лучше использовать функцию linspace(), которая вместо шага в качестве одного из аргументов принимает число, равное количеству нужных элементов:"
   ]
  },
  {
   "cell_type": "code",
   "execution_count": 14,
   "metadata": {},
   "outputs": [
    {
     "data": {
      "text/plain": [
       "array([0.  , 0.25, 0.5 , 0.75, 1.  , 1.25, 1.5 , 1.75, 2.  ])"
      ]
     },
     "execution_count": 14,
     "metadata": {},
     "output_type": "execute_result"
    }
   ],
   "source": [
    "a = np.linspace(0, 2, 9)  # 9 чисел от 0 до 2 включительно\n",
    "a"
   ]
  },
  {
   "cell_type": "markdown",
   "metadata": {},
   "source": [
    "# Изменение формы массивов"
   ]
  },
  {
   "cell_type": "markdown",
   "metadata": {},
   "source": [
    "Предположим, у нас имеется массив, состоящий из десяти чисел: "
   ]
  },
  {
   "cell_type": "code",
   "execution_count": 15,
   "metadata": {},
   "outputs": [
    {
     "data": {
      "text/plain": [
       "array([0, 1, 2, 3, 4, 5, 6, 7, 8, 9])"
      ]
     },
     "execution_count": 15,
     "metadata": {},
     "output_type": "execute_result"
    }
   ],
   "source": [
    "a = np.arange(10)\n",
    "a"
   ]
  },
  {
   "cell_type": "markdown",
   "metadata": {},
   "source": [
    "Для изменения формы этого массива, достаточно указать свойству shape кортеж с новыми размерами, например, так: "
   ]
  },
  {
   "cell_type": "code",
   "execution_count": 19,
   "metadata": {},
   "outputs": [
    {
     "data": {
      "text/plain": [
       "array([[0, 1, 2, 3, 4],\n",
       "       [5, 6, 7, 8, 9]])"
      ]
     },
     "execution_count": 19,
     "metadata": {},
     "output_type": "execute_result"
    }
   ],
   "source": [
    "a.shape = 2, 5\n",
    "a"
   ]
  },
  {
   "cell_type": "markdown",
   "metadata": {},
   "source": [
    "В результате изменится представление массива, на которое ссылается переменная a. Если же требуется создать новое представление массива, сохранив прежнее, то следует воспользоваться методом reshape(): "
   ]
  },
  {
   "cell_type": "markdown",
   "metadata": {},
   "source": [
    "b = a.reshape(10)\n",
    "b"
   ]
  },
  {
   "cell_type": "markdown",
   "metadata": {},
   "source": [
    "Cсылки b и a будут использовать одни и те же данные, то есть, изменение массива через b: "
   ]
  },
  {
   "cell_type": "code",
   "execution_count": 17,
   "metadata": {},
   "outputs": [],
   "source": [
    "b[0] = -1 # приведет к изменению соответствующего элемента массива a: "
   ]
  },
  {
   "cell_type": "markdown",
   "metadata": {},
   "source": [
    "У свойства shape и метода reshape() размерность должна охватывать все элементы массива. Например, вот такая команда: "
   ]
  },
  {
   "cell_type": "code",
   "execution_count": 18,
   "metadata": {
    "scrolled": true
   },
   "outputs": [
    {
     "ename": "ValueError",
     "evalue": "cannot reshape array of size 10 into shape (3,3)",
     "output_type": "error",
     "traceback": [
      "\u001b[1;31m---------------------------------------------------------------------------\u001b[0m",
      "\u001b[1;31mValueError\u001b[0m                                Traceback (most recent call last)",
      "Input \u001b[1;32mIn [18]\u001b[0m, in \u001b[0;36m<cell line: 1>\u001b[1;34m()\u001b[0m\n\u001b[1;32m----> 1\u001b[0m \u001b[43ma\u001b[49m\u001b[38;5;241;43m.\u001b[39;49m\u001b[43mshape\u001b[49m \u001b[38;5;241m=\u001b[39m \u001b[38;5;241m3\u001b[39m, \u001b[38;5;241m3\u001b[39m\n",
      "\u001b[1;31mValueError\u001b[0m: cannot reshape array of size 10 into shape (3,3)"
     ]
    }
   ],
   "source": [
    "a.shape = 3, 3"
   ]
  },
  {
   "cell_type": "markdown",
   "metadata": {},
   "source": [
    "приведет к ошибке, т.к. размерность 3x3 = 9 элементов, а в массиве 10 элементов. Здесь всегда должно выполняться равенство:\n",
    "\n",
    "n1 x n2 x … x nN = число элементов массива "
   ]
  },
  {
   "cell_type": "markdown",
   "metadata": {},
   "source": [
    "Но допускается делать так: "
   ]
  },
  {
   "cell_type": "code",
   "execution_count": 23,
   "metadata": {},
   "outputs": [
    {
     "data": {
      "text/plain": [
       "array([[0, 1],\n",
       "       [2, 3],\n",
       "       [4, 5],\n",
       "       [6, 7],\n",
       "       [8, 9]])"
      ]
     },
     "execution_count": 23,
     "metadata": {},
     "output_type": "execute_result"
    }
   ],
   "source": [
    "a.shape = -1, 2\n",
    "a"
   ]
  },
  {
   "cell_type": "markdown",
   "metadata": {},
   "source": [
    "Отрицательное значение -1 означает автоматическое вычисление размерности по первой оси. По второй берется значение 2. В этом случае получим размерность 5x2.\n",
    "\n",
    "То же самое можно делать и в методе reshape(): "
   ]
  },
  {
   "cell_type": "code",
   "execution_count": 24,
   "metadata": {},
   "outputs": [
    {
     "name": "stdout",
     "output_type": "stream",
     "text": [
      "[[-1.+0.j -1.+0.j -1.+0.j]\n",
      " [ 4.+0.j  5.+0.j  6.+0.j]]\n",
      "[[-1.+0.j -1.+0.j -1.+0.j]\n",
      " [ 4.+0.j  5.+0.j  6.+0.j]]\n"
     ]
    }
   ],
   "source": [
    "b.reshape(-1, 1)\n",
    "print(b)\n",
    "b.reshape(1, -1)\n",
    "print(b)"
   ]
  },
  {
   "cell_type": "markdown",
   "metadata": {},
   "source": [
    "Используя отрицательный индекс, можно делать и такие преобразования: "
   ]
  },
  {
   "cell_type": "code",
   "execution_count": 27,
   "metadata": {},
   "outputs": [
    {
     "name": "stdout",
     "output_type": "stream",
     "text": [
      "[[1.5+0.j 2. +0.j 3. +0.j]\n",
      " [4. +0.j 5. +0.j 6. +0.j]]\n",
      "[[1.5+0.j 2. +0.j 3. +0.j]\n",
      " [4. +0.j 5. +0.j 6. +0.j]]\n"
     ]
    }
   ],
   "source": [
    "b.reshape(2, -1)\n",
    "print(b)\n",
    "b.reshape(-1, 2)\n",
    "print(b)"
   ]
  },
  {
   "cell_type": "markdown",
   "metadata": {},
   "source": [
    "Если нам требуется многомерный массив преобразовать в обычный одномерный, то можно воспользоваться методом ravel(), который возвращает новое представление, не меняя текущего: "
   ]
  },
  {
   "cell_type": "code",
   "execution_count": 25,
   "metadata": {},
   "outputs": [
    {
     "data": {
      "text/plain": [
       "array([-1.+0.j, -1.+0.j, -1.+0.j,  4.+0.j,  5.+0.j,  6.+0.j])"
      ]
     },
     "execution_count": 25,
     "metadata": {},
     "output_type": "execute_result"
    }
   ],
   "source": [
    "c = b.ravel() # с ссылается на одномерное представление массива\n",
    "c"
   ]
  },
  {
   "cell_type": "markdown",
   "metadata": {},
   "source": [
    "Если же нам нужно текущий массив преобразовать в одномерный, то это можно сделать так: "
   ]
  },
  {
   "cell_type": "code",
   "execution_count": 26,
   "metadata": {},
   "outputs": [],
   "source": [
    "b.shape = -1"
   ]
  },
  {
   "cell_type": "markdown",
   "metadata": {},
   "source": [
    "Помимо свойства shape можно использовать метод resize, который выполняет подобную операцию с текущим массивом. Например: "
   ]
  },
  {
   "cell_type": "code",
   "execution_count": 27,
   "metadata": {},
   "outputs": [],
   "source": [
    "a.resize(2, 5) # массив 2x5"
   ]
  },
  {
   "cell_type": "markdown",
   "metadata": {},
   "source": [
    "Но, как мы уже говорили, вот такая строчка приведет к ошибке: "
   ]
  },
  {
   "cell_type": "code",
   "execution_count": 28,
   "metadata": {},
   "outputs": [
    {
     "ename": "ValueError",
     "evalue": "cannot resize an array that references or is referenced\nby another array in this way.\nUse the np.resize function or refcheck=False",
     "output_type": "error",
     "traceback": [
      "\u001b[1;31m---------------------------------------------------------------------------\u001b[0m",
      "\u001b[1;31mValueError\u001b[0m                                Traceback (most recent call last)",
      "Input \u001b[1;32mIn [28]\u001b[0m, in \u001b[0;36m<cell line: 1>\u001b[1;34m()\u001b[0m\n\u001b[1;32m----> 1\u001b[0m \u001b[43ma\u001b[49m\u001b[38;5;241;43m.\u001b[39;49m\u001b[43mresize\u001b[49m\u001b[43m(\u001b[49m\u001b[38;5;241;43m3\u001b[39;49m\u001b[43m,\u001b[49m\u001b[43m \u001b[49m\u001b[38;5;241;43m3\u001b[39;49m\u001b[43m)\u001b[49m\n",
      "\u001b[1;31mValueError\u001b[0m: cannot resize an array that references or is referenced\nby another array in this way.\nUse the np.resize function or refcheck=False"
     ]
    }
   ],
   "source": [
    "a.resize(3, 3)  # ошибка: 3x3 != 10"
   ]
  },
  {
   "cell_type": "markdown",
   "metadata": {},
   "source": [
    "# Транспонирование матриц и векторов"
   ]
  },
  {
   "cell_type": "markdown",
   "metadata": {},
   "source": [
    "Очень часто в математических операциях требуется выполнять транспонирование матриц и векторов, то есть, заменять строки на столбцы. Например, если имеется матрица (двумерный массив): "
   ]
  },
  {
   "cell_type": "code",
   "execution_count": 29,
   "metadata": {},
   "outputs": [
    {
     "data": {
      "text/plain": [
       "array([[ 1,  2,  3],\n",
       "       [ 1,  4,  9],\n",
       "       [ 1,  8, 27]])"
      ]
     },
     "execution_count": 29,
     "metadata": {},
     "output_type": "execute_result"
    }
   ],
   "source": [
    "a = np.array([(1, 2, 3), (1, 4, 9), (1, 8, 27)])\n",
    "a"
   ]
  },
  {
   "cell_type": "markdown",
   "metadata": {},
   "source": [
    "то операция транспонирования может быть реализована так: "
   ]
  },
  {
   "cell_type": "code",
   "execution_count": 30,
   "metadata": {},
   "outputs": [
    {
     "data": {
      "text/plain": [
       "array([[ 1,  1,  1],\n",
       "       [ 2,  4,  8],\n",
       "       [ 3,  9, 27]])"
      ]
     },
     "execution_count": 30,
     "metadata": {},
     "output_type": "execute_result"
    }
   ],
   "source": [
    "b = a.T\n",
    "b"
   ]
  },
  {
   "cell_type": "markdown",
   "metadata": {},
   "source": [
    "Обратите внимание, мы здесь создаем лишь новое представление тех же самых данных массива a. И изменение элементов в массиве b: "
   ]
  },
  {
   "cell_type": "code",
   "execution_count": 31,
   "metadata": {},
   "outputs": [],
   "source": [
    "b[0, 1] = 10"
   ]
  },
  {
   "cell_type": "markdown",
   "metadata": {},
   "source": [
    "приведет к соответствующему изменению значения элемента и массива a. Это следует помнить, используя операцию транспонирования.\n",
    "\n",
    "Транспонирование векторов работает несколько иначе. Предположим, имеется одномерный массив: "
   ]
  },
  {
   "cell_type": "code",
   "execution_count": 33,
   "metadata": {},
   "outputs": [
    {
     "data": {
      "text/plain": [
       "array([1, 2, 3, 4, 5, 6, 7, 8, 9])"
      ]
     },
     "execution_count": 33,
     "metadata": {},
     "output_type": "execute_result"
    }
   ],
   "source": [
    "x = np.arange(1, 10)\n",
    "x"
   ]
  },
  {
   "cell_type": "markdown",
   "metadata": {},
   "source": [
    "и мы выполняем операцию транспонирования: "
   ]
  },
  {
   "cell_type": "code",
   "execution_count": 34,
   "metadata": {},
   "outputs": [
    {
     "data": {
      "text/plain": [
       "array([1, 2, 3, 4, 5, 6, 7, 8, 9])"
      ]
     },
     "execution_count": 34,
     "metadata": {},
     "output_type": "execute_result"
    }
   ],
   "source": [
    "x.T\n",
    "x"
   ]
  },
  {
   "cell_type": "markdown",
   "metadata": {},
   "source": [
    "В результате ничего не изменилось: вектор как был строкой, так строкой и остался. Почему? Дело в том, что массив x имеет только одну размерность, поэтому здесь нет понятия строк и столбцов. Соответственно, операция транспонирования ни к чему не приводит. Чтобы получить ожидаемый эффект, нужно добавить к массиву еще одну ось, например, так: "
   ]
  },
  {
   "cell_type": "code",
   "execution_count": 35,
   "metadata": {},
   "outputs": [],
   "source": [
    "x.shape = 1, -1"
   ]
  },
  {
   "cell_type": "markdown",
   "metadata": {},
   "source": [
    "И теперь, при транспонировании получим вектор-столбец: "
   ]
  },
  {
   "cell_type": "code",
   "execution_count": 36,
   "metadata": {},
   "outputs": [
    {
     "name": "stdout",
     "output_type": "stream",
     "text": [
      "[[1]\n",
      " [2]\n",
      " [3]\n",
      " [4]\n",
      " [5]\n",
      " [6]\n",
      " [7]\n",
      " [8]\n",
      " [9]]\n",
      "[[1 2 3 4 5 6 7 8 9]]\n"
     ]
    }
   ],
   "source": [
    "print(x.T)\n",
    "print(x)"
   ]
  },
  {
   "cell_type": "markdown",
   "metadata": {},
   "source": [
    "# Операции с индексами"
   ]
  },
  {
   "cell_type": "markdown",
   "metadata": {},
   "source": [
    "Оперативная память компьютера линейна, и поэтому даже многомерные массивы, на самом деле являются некоторыми линейными структурами, над которыми существуют система индексов, говорящих как именно читать этот линейный блок. Проведение операций над индексами в большистве случаев эффективно и поэтому операции смены размерности массива или транспонирования выполняются быстро"
   ]
  },
  {
   "cell_type": "code",
   "execution_count": 37,
   "metadata": {},
   "outputs": [
    {
     "name": "stdout",
     "output_type": "stream",
     "text": [
      "[[1 3]\n",
      " [2 4]]\n"
     ]
    }
   ],
   "source": [
    "import numpy as np\n",
    "\n",
    "a = np.asarray([[1,2], [3,4]])\n",
    "b = a.T # Транспонированый массив\n",
    "print(b)"
   ]
  },
  {
   "cell_type": "code",
   "execution_count": 38,
   "metadata": {},
   "outputs": [
    {
     "name": "stdout",
     "output_type": "stream",
     "text": [
      "[[10  3]\n",
      " [ 2  4]]\n"
     ]
    }
   ],
   "source": [
    "b[0,0] = 10\n",
    "print(b)"
   ]
  },
  {
   "cell_type": "code",
   "execution_count": 39,
   "metadata": {},
   "outputs": [
    {
     "name": "stdout",
     "output_type": "stream",
     "text": [
      "[[10  2]\n",
      " [ 3  4]]\n"
     ]
    }
   ],
   "source": [
    "print(a)"
   ]
  },
  {
   "cell_type": "code",
   "execution_count": 40,
   "metadata": {},
   "outputs": [
    {
     "data": {
      "text/plain": [
       "array([[11,  3],\n",
       "       [ 2,  4]])"
      ]
     },
     "execution_count": 40,
     "metadata": {},
     "output_type": "execute_result"
    }
   ],
   "source": [
    "b[0][0] = 11\n",
    "b"
   ]
  },
  {
   "cell_type": "markdown",
   "metadata": {},
   "source": [
    "Как мы видим при изменени переменной b изменилась переменная a. Это произошло потому, что обе эти переменные использубют один и тот же кусок памяти, но по разному."
   ]
  },
  {
   "cell_type": "markdown",
   "metadata": {},
   "source": [
    "# Добавление и удаление осей"
   ]
  },
  {
   "cell_type": "markdown",
   "metadata": {},
   "source": [
    "Часто при работе с массивами NumPy требуется добавлять новые оси измерений и удалять существующие. Есть множество способов выполнять эти операции, но мы рассмотрим два наиболее распространенных с помощью функций:\n",
    "\n",
    "    np.expand_dims(a, axis) – добавление новой оси;\n",
    "    np.squeeze(a[, axis]) – удаление оси (без удаления элементов). \n",
    "\n",
    "Давайте предположим, что у нас имеется некий многомерный массив: "
   ]
  },
  {
   "cell_type": "code",
   "execution_count": 43,
   "metadata": {},
   "outputs": [
    {
     "name": "stdout",
     "output_type": "stream",
     "text": [
      "[[[ 0  1]\n",
      "  [ 2  3]]\n",
      "\n",
      " [[ 4  5]\n",
      "  [ 6  7]]\n",
      "\n",
      " [[ 8  9]\n",
      "  [10 11]]\n",
      "\n",
      " [[12 13]\n",
      "  [14 15]]\n",
      "\n",
      " [[16 17]\n",
      "  [18 19]]\n",
      "\n",
      " [[20 21]\n",
      "  [22 23]]\n",
      "\n",
      " [[24 25]\n",
      "  [26 27]]\n",
      "\n",
      " [[28 29]\n",
      "  [30 31]]]\n"
     ]
    }
   ],
   "source": [
    "x_test = np.arange(32).reshape(8, 2, 2) # массив 8x2x2\n",
    "print(x_test)"
   ]
  },
  {
   "cell_type": "markdown",
   "metadata": {},
   "source": [
    "И нам потребовалось добавить еще одно измерение (ось), причем, в самое начало, то есть, ось axis0. Сейчас на этой оси 8 элементов – матриц 2x2, но мы хотим сделать четырехмерный массив, сохранив остальные три оси и их данные без изменений. Как раз это достаточно просто сделать с помощью функции expand_dims, следующим образом: "
   ]
  },
  {
   "cell_type": "code",
   "execution_count": 44,
   "metadata": {},
   "outputs": [
    {
     "name": "stdout",
     "output_type": "stream",
     "text": [
      "[[[[ 0  1]\n",
      "   [ 2  3]]\n",
      "\n",
      "  [[ 4  5]\n",
      "   [ 6  7]]\n",
      "\n",
      "  [[ 8  9]\n",
      "   [10 11]]\n",
      "\n",
      "  [[12 13]\n",
      "   [14 15]]\n",
      "\n",
      "  [[16 17]\n",
      "   [18 19]]\n",
      "\n",
      "  [[20 21]\n",
      "   [22 23]]\n",
      "\n",
      "  [[24 25]\n",
      "   [26 27]]\n",
      "\n",
      "  [[28 29]\n",
      "   [30 31]]]]\n"
     ]
    }
   ],
   "source": [
    "x_test4 = np.expand_dims(x_test, axis=0)\n",
    "print(x_test4)"
   ]
  },
  {
   "cell_type": "markdown",
   "metadata": {},
   "source": [
    "Обращаясь к свойству shape: "
   ]
  },
  {
   "cell_type": "markdown",
   "metadata": {},
   "source": [
    "x_test4.shape"
   ]
  },
  {
   "cell_type": "markdown",
   "metadata": {},
   "source": [
    "Видим, что массив стал четырехмерным и первая добавленная ось axis0 содержит один элемент – трехмерный массив 8x2x2. При необходимости, мы всегда можем добавить новый элемент на эту ось: "
   ]
  },
  {
   "cell_type": "code",
   "execution_count": 45,
   "metadata": {},
   "outputs": [
    {
     "data": {
      "text/plain": [
       "array([[[[ 0,  1],\n",
       "         [ 2,  3]],\n",
       "\n",
       "        [[ 4,  5],\n",
       "         [ 6,  7]],\n",
       "\n",
       "        [[ 8,  9],\n",
       "         [10, 11]],\n",
       "\n",
       "        [[12, 13],\n",
       "         [14, 15]],\n",
       "\n",
       "        [[16, 17],\n",
       "         [18, 19]],\n",
       "\n",
       "        [[20, 21],\n",
       "         [22, 23]],\n",
       "\n",
       "        [[24, 25],\n",
       "         [26, 27]],\n",
       "\n",
       "        [[28, 29],\n",
       "         [30, 31]]],\n",
       "\n",
       "\n",
       "       [[[ 0,  1],\n",
       "         [ 2,  3]],\n",
       "\n",
       "        [[ 4,  5],\n",
       "         [ 6,  7]],\n",
       "\n",
       "        [[ 8,  9],\n",
       "         [10, 11]],\n",
       "\n",
       "        [[12, 13],\n",
       "         [14, 15]],\n",
       "\n",
       "        [[16, 17],\n",
       "         [18, 19]],\n",
       "\n",
       "        [[20, 21],\n",
       "         [22, 23]],\n",
       "\n",
       "        [[24, 25],\n",
       "         [26, 27]],\n",
       "\n",
       "        [[28, 29],\n",
       "         [30, 31]]]])"
      ]
     },
     "execution_count": 45,
     "metadata": {},
     "output_type": "execute_result"
    }
   ],
   "source": [
    "a = np.append(x_test4, x_test4, axis=0) # размерность (2, 8, 2, 2)\n",
    "a"
   ]
  },
  {
   "cell_type": "markdown",
   "metadata": {},
   "source": [
    "или удалить ненужные элементы: "
   ]
  },
  {
   "cell_type": "code",
   "execution_count": 46,
   "metadata": {},
   "outputs": [
    {
     "data": {
      "text/plain": [
       "array([[[[ 0,  1],\n",
       "         [ 2,  3]],\n",
       "\n",
       "        [[ 4,  5],\n",
       "         [ 6,  7]],\n",
       "\n",
       "        [[ 8,  9],\n",
       "         [10, 11]],\n",
       "\n",
       "        [[12, 13],\n",
       "         [14, 15]],\n",
       "\n",
       "        [[16, 17],\n",
       "         [18, 19]],\n",
       "\n",
       "        [[20, 21],\n",
       "         [22, 23]],\n",
       "\n",
       "        [[24, 25],\n",
       "         [26, 27]],\n",
       "\n",
       "        [[28, 29],\n",
       "         [30, 31]]]])"
      ]
     },
     "execution_count": 46,
     "metadata": {},
     "output_type": "execute_result"
    }
   ],
   "source": [
    "b = np.delete(a, 0, axis=0) # размерность (1, 8, 2, 2)\n",
    "b"
   ]
  },
  {
   "cell_type": "markdown",
   "metadata": {},
   "source": [
    "Здесь второй параметр 0 – индекс удаляемого элемента на оси axis0.\n",
    "\n",
    "Если нам нужно добавить последнюю ось в массиве, то для этого можно записать такую команду: "
   ]
  },
  {
   "cell_type": "code",
   "execution_count": 47,
   "metadata": {},
   "outputs": [],
   "source": [
    "b = np.expand_dims(x_test4, axis=-1) # размерность (1, 8, 2, 2, 1)"
   ]
  },
  {
   "cell_type": "markdown",
   "metadata": {},
   "source": [
    "Отрицательный индекс -1 – это следующая с конца ось. Если указать индекс -2, то добавится предпоследняя ось и так далее. Отрицательные индексы очень удобно использовать при работе с массивами произвольных размерностей.\n",
    "\n",
    "Следующая функция squeeze позволяет удалить все оси с одним элементом. Например, строчка: "
   ]
  },
  {
   "cell_type": "code",
   "execution_count": 48,
   "metadata": {},
   "outputs": [
    {
     "data": {
      "text/plain": [
       "array([[[ 0,  1],\n",
       "        [ 2,  3]],\n",
       "\n",
       "       [[ 4,  5],\n",
       "        [ 6,  7]],\n",
       "\n",
       "       [[ 8,  9],\n",
       "        [10, 11]],\n",
       "\n",
       "       [[12, 13],\n",
       "        [14, 15]],\n",
       "\n",
       "       [[16, 17],\n",
       "        [18, 19]],\n",
       "\n",
       "       [[20, 21],\n",
       "        [22, 23]],\n",
       "\n",
       "       [[24, 25],\n",
       "        [26, 27]],\n",
       "\n",
       "       [[28, 29],\n",
       "        [30, 31]]])"
      ]
     },
     "execution_count": 48,
     "metadata": {},
     "output_type": "execute_result"
    }
   ],
   "source": [
    "c = np.squeeze(b) # размерность (8, 2, 2)\n",
    "c"
   ]
  },
  {
   "cell_type": "markdown",
   "metadata": {},
   "source": [
    "превращает массив размерностью (1, 8, 2, 2) в массив размерностью (8, 2, 2). При необходимости, дополнительно мы можем самостоятельно указать оси, которые следует удалять, например, так: "
   ]
  },
  {
   "cell_type": "code",
   "execution_count": 49,
   "metadata": {},
   "outputs": [],
   "source": [
    "c = np.squeeze(b, axis=0) # удалит только ось axis0, не затронув другие"
   ]
  },
  {
   "cell_type": "markdown",
   "metadata": {},
   "source": [
    "Но, если указать ось с числом элементов больше 1, то возникнет ошибка: "
   ]
  },
  {
   "cell_type": "code",
   "execution_count": 50,
   "metadata": {},
   "outputs": [
    {
     "ename": "ValueError",
     "evalue": "cannot select an axis to squeeze out which has size not equal to one",
     "output_type": "error",
     "traceback": [
      "\u001b[1;31m---------------------------------------------------------------------------\u001b[0m",
      "\u001b[1;31mValueError\u001b[0m                                Traceback (most recent call last)",
      "Input \u001b[1;32mIn [50]\u001b[0m, in \u001b[0;36m<cell line: 1>\u001b[1;34m()\u001b[0m\n\u001b[1;32m----> 1\u001b[0m c \u001b[38;5;241m=\u001b[39m \u001b[43mnp\u001b[49m\u001b[38;5;241;43m.\u001b[39;49m\u001b[43msqueeze\u001b[49m\u001b[43m(\u001b[49m\u001b[43mb\u001b[49m\u001b[43m,\u001b[49m\u001b[43m \u001b[49m\u001b[43maxis\u001b[49m\u001b[38;5;241;43m=\u001b[39;49m\u001b[38;5;241;43m1\u001b[39;49m\u001b[43m)\u001b[49m\n",
      "File \u001b[1;32m<__array_function__ internals>:180\u001b[0m, in \u001b[0;36msqueeze\u001b[1;34m(*args, **kwargs)\u001b[0m\n",
      "File \u001b[1;32m~\\AppData\\Local\\Programs\\Python\\Python310\\lib\\site-packages\\numpy\\core\\fromnumeric.py:1545\u001b[0m, in \u001b[0;36msqueeze\u001b[1;34m(a, axis)\u001b[0m\n\u001b[0;32m   1543\u001b[0m     \u001b[38;5;28;01mreturn\u001b[39;00m squeeze()\n\u001b[0;32m   1544\u001b[0m \u001b[38;5;28;01melse\u001b[39;00m:\n\u001b[1;32m-> 1545\u001b[0m     \u001b[38;5;28;01mreturn\u001b[39;00m \u001b[43msqueeze\u001b[49m\u001b[43m(\u001b[49m\u001b[43maxis\u001b[49m\u001b[38;5;241;43m=\u001b[39;49m\u001b[43maxis\u001b[49m\u001b[43m)\u001b[49m\n",
      "\u001b[1;31mValueError\u001b[0m: cannot select an axis to squeeze out which has size not equal to one"
     ]
    }
   ],
   "source": [
    "c = np.squeeze(b, axis=1) # ошибка, на оси axis1 8 элементов"
   ]
  },
  {
   "cell_type": "markdown",
   "metadata": {},
   "source": [
    "В NumPy добавлять новые оси иногда удобнее с помощью специального объекта np.newaxis. Например, пусть у нас есть одномерный массив: "
   ]
  },
  {
   "cell_type": "code",
   "execution_count": 51,
   "metadata": {},
   "outputs": [
    {
     "data": {
      "text/plain": [
       "array([1, 2, 3, 4, 5, 6, 7, 8, 9])"
      ]
     },
     "execution_count": 51,
     "metadata": {},
     "output_type": "execute_result"
    }
   ],
   "source": [
    "a = np.arange(1, 10)\n",
    "a"
   ]
  },
  {
   "cell_type": "markdown",
   "metadata": {},
   "source": [
    "У него одна ось – одно измерение. Добавим еще одну ось, допустим, в начало. С помощью объекта np.newaxis это можно сделать так: "
   ]
  },
  {
   "cell_type": "code",
   "execution_count": 52,
   "metadata": {},
   "outputs": [
    {
     "name": "stdout",
     "output_type": "stream",
     "text": [
      "[[1 2 3 4 5 6 7 8 9]]\n"
     ]
    },
    {
     "data": {
      "text/plain": [
       "(1, 9)"
      ]
     },
     "execution_count": 52,
     "metadata": {},
     "output_type": "execute_result"
    }
   ],
   "source": [
    "b = a[np.newaxis, :] # добавление оси axis0\n",
    "print(b)\n",
    "b.shape # (1, 9)"
   ]
  },
  {
   "cell_type": "markdown",
   "metadata": {},
   "source": [
    "Или, можно прописать сразу две оси: "
   ]
  },
  {
   "cell_type": "code",
   "execution_count": 53,
   "metadata": {},
   "outputs": [
    {
     "name": "stdout",
     "output_type": "stream",
     "text": [
      "[[[1]\n",
      "  [2]\n",
      "  [3]\n",
      "  [4]\n",
      "  [5]\n",
      "  [6]\n",
      "  [7]\n",
      "  [8]\n",
      "  [9]]]\n"
     ]
    },
    {
     "data": {
      "text/plain": [
       "(1, 9, 1)"
      ]
     },
     "execution_count": 53,
     "metadata": {},
     "output_type": "execute_result"
    }
   ],
   "source": [
    "c = a[np.newaxis, :, np.newaxis]\n",
    "print(c)\n",
    "c.shape # (1, 9, 1)"
   ]
  },
  {
   "cell_type": "markdown",
   "metadata": {},
   "source": [
    "# Базовые математические операции над массивами"
   ]
  },
  {
   "cell_type": "markdown",
   "metadata": {},
   "source": [
    "Предположим, имеется обычный список и массив, созданный на его основе:"
   ]
  },
  {
   "cell_type": "code",
   "execution_count": 54,
   "metadata": {},
   "outputs": [],
   "source": [
    "lst = [1, 2, 3]\n",
    "a = np.array([1, 2, 3])"
   ]
  },
  {
   "cell_type": "markdown",
   "metadata": {},
   "source": [
    "Сейчас вы увидите принципиальную разницу между двумя этими объектами. Умножим их на число 2: "
   ]
  },
  {
   "cell_type": "code",
   "execution_count": 57,
   "metadata": {},
   "outputs": [
    {
     "data": {
      "text/plain": [
       "array([2, 4, 6])"
      ]
     },
     "execution_count": 57,
     "metadata": {},
     "output_type": "execute_result"
    }
   ],
   "source": [
    "lst*2\n",
    "a*2"
   ]
  },
  {
   "cell_type": "markdown",
   "metadata": {},
   "source": [
    "Видите, при умножении списка языка Python, он дублируется дважды, а при умножении на NumPy массив – каждый его элемент умножается математически на число 2. Если бы мы захотели то же самое реализовать непосредственно на Python, оперируя списками, то пришлось бы делать что-то вроде:"
   ]
  },
  {
   "cell_type": "code",
   "execution_count": null,
   "metadata": {},
   "outputs": [],
   "source": [
    "[x*2 for x in lst]"
   ]
  },
  {
   "cell_type": "markdown",
   "metadata": {},
   "source": [
    "Но выполнялась бы такая конструкция дольше, чем в случае с массивом NumPy. Именно благодаря удобству и скорости библиотека NumPy и приобрела свою популярность."
   ]
  },
  {
   "cell_type": "markdown",
   "metadata": {},
   "source": [
    "Пусть у нас задан тот же одномерный массив: "
   ]
  },
  {
   "cell_type": "code",
   "execution_count": 50,
   "metadata": {},
   "outputs": [],
   "source": [
    "a = np.array([1, 2, 3])"
   ]
  },
  {
   "cell_type": "markdown",
   "metadata": {},
   "source": [
    "Все указанные в таблице операции выполняются следующим образом: "
   ]
  },
  {
   "cell_type": "code",
   "execution_count": 51,
   "metadata": {},
   "outputs": [
    {
     "name": "stdout",
     "output_type": "stream",
     "text": [
      "[-1 -2 -3]\n",
      "[3 4 5]\n",
      "[3 4 5]\n",
      "[-2 -1  0]\n",
      "[ 5 10 15]\n",
      "[0.2 0.4 0.6]\n",
      "[0 1 1]\n",
      "[ 1  8 27]\n",
      "[1 0 1]\n"
     ]
    }
   ],
   "source": [
    "print(-a) # унарный минус\n",
    "print(a + 2) # сложение с числом\n",
    "print(2 + a)  # так тоже можно записывать\n",
    "print(a - 3) # вычитание с числом\n",
    "print(a * 5) # умножение на число\n",
    "print(a / 5)  # деление на число\n",
    "print(a // 2)  # целочисленное деление\n",
    "print(a ** 3)  # возведение в степень 3\n",
    "print(a % 2)  # вычисление по модулю 2"
   ]
  },
  {
   "cell_type": "markdown",
   "metadata": {},
   "source": [
    "Приоритеты этих операций такие же, что и при обычных математических вычислениях. А на выходе мы получаем новый массив с соответствующими значениями.\n",
    "\n",
    "Давайте теперь добавим еще один массив: "
   ]
  },
  {
   "cell_type": "code",
   "execution_count": 52,
   "metadata": {},
   "outputs": [],
   "source": [
    "b = np.array([3, 4, 5])"
   ]
  },
  {
   "cell_type": "markdown",
   "metadata": {},
   "source": [
    "и посмотрим на эти же операции, но с участием двух массивов:"
   ]
  },
  {
   "cell_type": "code",
   "execution_count": 53,
   "metadata": {},
   "outputs": [
    {
     "name": "stdout",
     "output_type": "stream",
     "text": [
      "[-2 -2 -2]\n",
      "[4 6 8]\n",
      "[ 3  8 15]\n",
      "[3.         2.         1.66666667]\n",
      "[3 2 1]\n",
      "[  3  16 125]\n",
      "[0 0 2]\n"
     ]
    }
   ],
   "source": [
    "print(a - b)\n",
    "print(b + a)\n",
    "print(a * b)\n",
    "print(b / a)\n",
    "print(b // a)\n",
    "print(b ** a)\n",
    "print(b % a)"
   ]
  },
  {
   "cell_type": "markdown",
   "metadata": {},
   "source": [
    "Везде мы видим поэлементные операции. Соответственно, чтобы они выполнялись, массивы должны быть согласованы по длине. Например, если взять массив: "
   ]
  },
  {
   "cell_type": "code",
   "execution_count": 54,
   "metadata": {},
   "outputs": [],
   "source": [
    "b = np.array([3, 4, 5, 6])"
   ]
  },
  {
   "cell_type": "markdown",
   "metadata": {},
   "source": [
    "и выполнить операцию: "
   ]
  },
  {
   "cell_type": "code",
   "execution_count": 55,
   "metadata": {},
   "outputs": [
    {
     "ename": "ValueError",
     "evalue": "operands could not be broadcast together with shapes (3,) (4,) ",
     "output_type": "error",
     "traceback": [
      "\u001b[1;31m---------------------------------------------------------------------------\u001b[0m",
      "\u001b[1;31mValueError\u001b[0m                                Traceback (most recent call last)",
      "Input \u001b[1;32mIn [55]\u001b[0m, in \u001b[0;36m<cell line: 1>\u001b[1;34m()\u001b[0m\n\u001b[1;32m----> 1\u001b[0m \u001b[43ma\u001b[49m\u001b[43m \u001b[49m\u001b[38;5;241;43m+\u001b[39;49m\u001b[43m \u001b[49m\u001b[43mb\u001b[49m\n",
      "\u001b[1;31mValueError\u001b[0m: operands could not be broadcast together with shapes (3,) (4,) "
     ]
    }
   ],
   "source": [
    "a + b  # ошибка: длины массивов не совпадают"
   ]
  },
  {
   "cell_type": "markdown",
   "metadata": {},
   "source": [
    "то возникнет ошибка из-за несовпадения длин массивов. Но вот такая операция с двумерным массивом b сработает: "
   ]
  },
  {
   "cell_type": "code",
   "execution_count": 58,
   "metadata": {},
   "outputs": [
    {
     "data": {
      "text/plain": [
       "array([[2, 4, 6],\n",
       "       [5, 7, 9]])"
      ]
     },
     "execution_count": 58,
     "metadata": {},
     "output_type": "execute_result"
    }
   ],
   "source": [
    "b = np.arange(1, 7)\n",
    "b.resize(2, 3)\n",
    "a + b"
   ]
  },
  {
   "cell_type": "markdown",
   "metadata": {},
   "source": [
    "В этом случае массив a будет применен к каждой строке массива b. Такое поведение получило название транслирование массивов."
   ]
  },
  {
   "cell_type": "markdown",
   "metadata": {},
   "source": [
    "Все рассмотренные операции можно распространить и на многомерные массивы, главное, чтобы они были согласованы по размерам. Я приведу два небольших примера, так как думаю, общий принцип здесь понятен. Пусть у нас трехмерный и двумерный массивы: "
   ]
  },
  {
   "cell_type": "code",
   "execution_count": 61,
   "metadata": {},
   "outputs": [
    {
     "name": "stdout",
     "output_type": "stream",
     "text": [
      "[[[ 1  2]\n",
      "  [ 3  4]\n",
      "  [ 5  6]]\n",
      "\n",
      " [[ 7  8]\n",
      "  [ 9 10]\n",
      "  [11 12]]\n",
      "\n",
      " [[13 14]\n",
      "  [15 16]\n",
      "  [17 18]]]\n",
      "[[1. 1.]\n",
      " [1. 1.]\n",
      " [1. 1.]]\n"
     ]
    }
   ],
   "source": [
    "a = np.arange(1, 19)\n",
    "a.resize(3, 3, 2)\n",
    "b = np.ones((3, 2))\n",
    "print(a)\n",
    "print(b)"
   ]
  },
  {
   "cell_type": "markdown",
   "metadata": {},
   "source": [
    "С ними можно выполнять такие операции:"
   ]
  },
  {
   "cell_type": "code",
   "execution_count": 60,
   "metadata": {},
   "outputs": [
    {
     "name": "stdout",
     "output_type": "stream",
     "text": [
      "[[[ 0.  1.]\n",
      "  [ 2.  3.]\n",
      "  [ 4.  5.]]\n",
      "\n",
      " [[ 6.  7.]\n",
      "  [ 8.  9.]\n",
      "  [10. 11.]]\n",
      "\n",
      " [[12. 13.]\n",
      "  [14. 15.]\n",
      "  [16. 17.]]]\n",
      "[[[ 10  20]\n",
      "  [ 30  40]\n",
      "  [ 50  60]]\n",
      "\n",
      " [[ 70  80]\n",
      "  [ 90 100]\n",
      "  [110 120]]\n",
      "\n",
      " [[130 140]\n",
      "  [150 160]\n",
      "  [170 180]]]\n",
      "[[[ 1.  2.]\n",
      "  [ 3.  4.]\n",
      "  [ 5.  6.]]\n",
      "\n",
      " [[ 7.  8.]\n",
      "  [ 9. 10.]\n",
      "  [11. 12.]]\n",
      "\n",
      " [[13. 14.]\n",
      "  [15. 16.]\n",
      "  [17. 18.]]]\n"
     ]
    }
   ],
   "source": [
    "print(a - b)\n",
    "print(a * 10)\n",
    "print(a // b)"
   ]
  },
  {
   "cell_type": "markdown",
   "metadata": {},
   "source": [
    "Если нам нужно произвести какие-либо математические операции с массивом и изменения сохранить в нем же, то удобно использовать сокращенные записи."
   ]
  },
  {
   "cell_type": "code",
   "execution_count": 62,
   "metadata": {},
   "outputs": [],
   "source": [
    "a = np.array([1, 2, 6, 8])\n",
    "a += 5\n",
    "b = np.ones(4)\n",
    "b *= a"
   ]
  },
  {
   "cell_type": "markdown",
   "metadata": {},
   "source": [
    "# Элементы линейной алгебры"
   ]
  },
  {
   "cell_type": "markdown",
   "metadata": {},
   "source": [
    "**Упражнение 1**\n",
    "\n",
    "Создайте два вектора.\n",
    "\n",
    "Найдите в документации numpy функции **dot** и **inner** вычислите скалярное произведение векторов."
   ]
  },
  {
   "cell_type": "markdown",
   "metadata": {},
   "source": [
    "**Упражнение 2**\n",
    "\n",
    "Создайте две матрицы (двумерных массива).\n",
    "\n",
    "Найдите в документации numpy функции **dot** и **matmul** и с помощью этих функций вычислите произведение двух матриц.\n",
    "\n",
    "Создайте диагональную единичную матрицу и выполните умножение одной из предыдущих матриц на единичную матрицу."
   ]
  },
  {
   "cell_type": "markdown",
   "metadata": {},
   "source": [
    "Вычисление нормы вектора:"
   ]
  },
  {
   "cell_type": "code",
   "execution_count": 59,
   "metadata": {},
   "outputs": [
    {
     "data": {
      "text/plain": [
       "10.14889156509222"
      ]
     },
     "execution_count": 59,
     "metadata": {},
     "output_type": "execute_result"
    }
   ],
   "source": [
    "b = np.array([0, 2, 3, 4, 5, 7])\n",
    "d = np.linalg.norm(b)\n",
    "d"
   ]
  },
  {
   "cell_type": "markdown",
   "metadata": {},
   "source": [
    "**Упражнение 3**\n",
    "\n",
    "Вычислите норму матрицы с помощью функции **np.linalg.norm**."
   ]
  },
  {
   "cell_type": "markdown",
   "metadata": {},
   "source": [
    "**Упражнение 4**\n",
    "\n",
    "Вычислите косинус угла между векторами: $\\normalsize cos\\alpha = \\frac{a*b}{\\|a\\|*\\|b\\|}$"
   ]
  },
  {
   "cell_type": "markdown",
   "metadata": {},
   "source": [
    "____________________________________________________________________________________________________________________\n",
    "Вычисление определителя матрицы:"
   ]
  },
  {
   "cell_type": "code",
   "execution_count": 60,
   "metadata": {},
   "outputs": [
    {
     "name": "stdout",
     "output_type": "stream",
     "text": [
      "[[-4 -1  2]\n",
      " [10  4 -1]\n",
      " [ 8  3  1]]\n",
      "-14.000000000000009\n"
     ]
    }
   ],
   "source": [
    "A = np.matrix('-4 -1 2; 10 4 -1; 8 3 1') # еще один способ для создания матрицы\n",
    "print(A)\n",
    "d = np.linalg.det(A)\n",
    "print(d)"
   ]
  },
  {
   "cell_type": "markdown",
   "metadata": {},
   "source": [
    "**Упражнение 5**\n",
    "\n",
    "Транспонируйте матрицу, вычислите определитель. Отличается ли определитель транспонированной матрицы от определителя исходной матрицы?\n",
    "\n",
    "Замените одну из строк матрицы на строку из нулей, вычислите определитель матрицы.\n",
    "\n",
    "Создайте матрицу, у которой две строки переставлены местами по сравнению с исходной матрицей, вычислите определитель новой матрицы.\n",
    "\n",
    "Создайте матрицу с двумя одинаковыми строками, вычислите ее определитель.\n",
    "\n",
    "Умножьте одну из строк исходной матрицы на число, вычислите определитель.\n",
    "\n",
    "Прибавьте к элементам одной строки прибавить элементы другой строки, умноженные на одно и тоже число, вычтслите определитель."
   ]
  },
  {
   "cell_type": "markdown",
   "metadata": {},
   "source": [
    "# Построение графиков в matplotlib"
   ]
  },
  {
   "cell_type": "markdown",
   "metadata": {},
   "source": [
    "Построение графика по точкам:"
   ]
  },
  {
   "cell_type": "code",
   "execution_count": 63,
   "metadata": {},
   "outputs": [
    {
     "data": {
      "image/png": "[encoded data removed]",
      "text/plain": [
       "<Figure size 640x480 with 1 Axes>"
      ]
     },
     "metadata": {},
     "output_type": "display_data"
    }
   ],
   "source": [
    "import matplotlib.pyplot as plt\n",
    "plt.plot([1, 2, 3, 4, 5], [1, 2, 3, 4, 5])\n",
    "plt.show()"
   ]
  },
  {
   "cell_type": "markdown",
   "metadata": {},
   "source": [
    "Для начала построим линейную зависимость, дадим нашему графику название, подпишем оси и отобразим сетку:"
   ]
  },
  {
   "cell_type": "code",
   "execution_count": 64,
   "metadata": {},
   "outputs": [
    {
     "data": {
      "text/plain": [
       "[<matplotlib.lines.Line2D at 0x1733f255570>]"
      ]
     },
     "execution_count": 64,
     "metadata": {},
     "output_type": "execute_result"
    },
    {
     "data": {
      "image/png": "[encoded data removed]",
      "text/plain": [
       "<Figure size 640x480 with 1 Axes>"
      ]
     },
     "metadata": {},
     "output_type": "display_data"
    }
   ],
   "source": [
    "import numpy as np\n",
    "# Независимая (x) и зависимая (y) переменные\n",
    "x = np.linspace(0, 10, 50)\n",
    "y = x\n",
    "\n",
    "# Построение графика\n",
    "plt.title(\"Линейная зависимость y = x\") # заголовок\n",
    "plt.xlabel(\"x\") # ось абсцисс\n",
    "plt.ylabel(\"y\") # ось ординат\n",
    "plt.grid()      # включение отображение сетки\n",
    "plt.plot(x, y)  # построение графика"
   ]
  },
  {
   "cell_type": "markdown",
   "metadata": {},
   "source": [
    "Изменим тип линии и ее цвет, для этого в функцию plot(), в качестве третьего параметра передадим строку, сформированную определенным образом, в нашем случае это “r–”, где “r” означает красный цвет, а “–” – тип линии – пунктирная линия."
   ]
  },
  {
   "cell_type": "code",
   "execution_count": 65,
   "metadata": {},
   "outputs": [
    {
     "data": {
      "text/plain": [
       "[<matplotlib.lines.Line2D at 0x1733d082890>]"
      ]
     },
     "execution_count": 65,
     "metadata": {},
     "output_type": "execute_result"
    },
    {
     "data": {
      "image/png": "[encoded data removed]",
      "text/plain": [
       "<Figure size 640x480 with 1 Axes>"
      ]
     },
     "metadata": {},
     "output_type": "display_data"
    }
   ],
   "source": [
    "# Построение графика\n",
    "plt.title(\"Линейная зависимость y = x\") # заголовок\n",
    "plt.xlabel(\"x\") # ось абсцисс\n",
    "plt.ylabel(\"y\") # ось ординат\n",
    "plt.grid()      # включение отображение сетки\n",
    "plt.plot(x, y, \"r--\")  # построение графика"
   ]
  },
  {
   "cell_type": "markdown",
   "metadata": {},
   "source": [
    "**Несколько графиков на одном поле**\n",
    "\n",
    "Построим несколько графиков на одном поле, для этого добавим квадратичную зависимость:"
   ]
  },
  {
   "cell_type": "code",
   "execution_count": null,
   "metadata": {},
   "outputs": [],
   "source": [
    "# Линейная зависимость\n",
    "x = np.linspace(0, 10, 50)\n",
    "y1 = x\n",
    "# Квадратичная зависимость\n",
    "y2 = [i**2 for i in x]\n",
    "# Построение графика\n",
    "plt.title(\"Зависимости: y1 = x, y2 = x^2\") # заголовок\n",
    "plt.xlabel(\"x\")         # ось абсцисс\n",
    "plt.ylabel(\"y1, y2\")    # ось ординат\n",
    "plt.grid()              # включение отображение сетки\n",
    "plt.plot(x, y1, x, y2)  # построение графика"
   ]
  },
  {
   "cell_type": "markdown",
   "metadata": {},
   "source": [
    "В приведенном примере в функцию plot() последовательно передаются два массива для построения первого графика и два массива для построения второго, при этом, как вы можете заметить, для обоих графиков массив значений независимой переменной x один и то же."
   ]
  },
  {
   "cell_type": "markdown",
   "metadata": {},
   "source": [
    "**Несколько разделенных полей с графиками**\n",
    "\n",
    "Третья, довольно часто встречающаяся задача – это отобразить два или более различных поля, на которых будет отображено по одному или более графику.\n",
    "\n",
    "Построим уже известные нам две зависимость на разных полях."
   ]
  },
  {
   "cell_type": "code",
   "execution_count": 4,
   "metadata": {},
   "outputs": [
    {
     "data": {
      "image/png": "[encoded data removed]",
      "text/plain": [
       "<Figure size 900x900 with 2 Axes>"
      ]
     },
     "metadata": {},
     "output_type": "display_data"
    }
   ],
   "source": [
    "# Линейная зависимость\n",
    "x = np.linspace(0, 10, 50)\n",
    "y1 = x\n",
    "# Квадратичная зависимость\n",
    "y2 = [i**2 for i in x]\n",
    "# Построение графиков\n",
    "plt.figure(figsize=(9, 9))\n",
    "plt.subplot(2, 1, 1)\n",
    "plt.plot(x, y1)               # построение графика\n",
    "plt.title(\"Зависимости: y1 = x, y2 = x^2\") # заголовок\n",
    "plt.ylabel(\"y1\", fontsize=14) # ось ординат\n",
    "plt.grid(True)                # включение отображение сетки\n",
    "plt.subplot(2, 1, 2)\n",
    "plt.plot(x, y2)               # построение графика\n",
    "plt.xlabel(\"x\", fontsize=14)  # ось абсцисс\n",
    "plt.ylabel(\"y2\", fontsize=14) # ось ординат\n",
    "plt.grid(True)                # включение отображение сетки"
   ]
  },
  {
   "cell_type": "markdown",
   "metadata": {},
   "source": [
    "Здесь мы воспользовались новыми функциями: \n",
    "\n",
    "figure() – функция для задания глобальных параметров отображения графиков. В нее, в качестве аргумента, мы передаем кортеж, определяющий размер общего поля. \n",
    "\n",
    "subplot() – функция для задания местоположения поля с графиком. Существует несколько способов задания областей для вывода через функцию subplot() мы воспользовались следующим: первый аргумент – количество строк, второй – столбцов в формируемом поле, третий – индекс (номер поля, считаем сверху вниз, слева направо).\n",
    "\n",
    "Дополнительно мы использовали параметр fontsize для функций xlabel() и ylabel(), для задания размера шрифта."
   ]
  },
  {
   "cell_type": "markdown",
   "metadata": {},
   "source": [
    "**Точечная диаграмма (scatter plot)**"
   ]
  },
  {
   "cell_type": "code",
   "execution_count": null,
   "metadata": {},
   "outputs": [],
   "source": [
    "import numpy as np\n",
    "import matplotlib.pyplot as plt\n",
    "\n",
    "\n",
    "N = 50\n",
    "x = np.random.rand(N) # случайный вектор из 50 элементов\n",
    "print(\"x\", x)\n",
    "y = np.random.rand(N) # случайный вектор из 50 элементов\n",
    "print(\"y\", y)\n",
    "colors = np.random.rand(N) # случайный вектор из 50 элементов, чтобы задавать цвета каждой из точек\n",
    "area = (30 * np.random.rand(N))**2 # случайные площади каждой из точек\n",
    "\n",
    "plt.scatter(x, y, s=area, c=colors, alpha=0.5) # нанесение точек на диаграмму, x и y - координаты\n",
    "                                               # area - площади точек, colors - цвета точек\n",
    "                                               # alpha - значение прозрачности точек\n",
    "plt.show()"
   ]
  },
  {
   "cell_type": "markdown",
   "metadata": {},
   "source": [
    "**Пример с вычислением числа $\\pi$ с помощью метода Монте Карло и визуализация результатов**"
   ]
  },
  {
   "cell_type": "markdown",
   "metadata": {},
   "source": [
    "Переключим режим отображения графиков в notebook:"
   ]
  },
  {
   "cell_type": "code",
   "execution_count": 5,
   "metadata": {},
   "outputs": [],
   "source": [
    "%matplotlib notebook"
   ]
  },
  {
   "cell_type": "code",
   "execution_count": 6,
   "metadata": {},
   "outputs": [
    {
     "ename": "ModuleNotFoundError",
     "evalue": "No module named 'scipy'",
     "output_type": "error",
     "traceback": [
      "\u001b[1;31m---------------------------------------------------------------------------\u001b[0m",
      "\u001b[1;31mModuleNotFoundError\u001b[0m                       Traceback (most recent call last)",
      "Input \u001b[1;32mIn [6]\u001b[0m, in \u001b[0;36m<cell line: 4>\u001b[1;34m()\u001b[0m\n\u001b[0;32m      2\u001b[0m \u001b[38;5;28;01mimport\u001b[39;00m \u001b[38;5;21;01mnumpy\u001b[39;00m \u001b[38;5;28;01mas\u001b[39;00m \u001b[38;5;21;01mnp\u001b[39;00m\n\u001b[0;32m      3\u001b[0m \u001b[38;5;28;01mfrom\u001b[39;00m \u001b[38;5;21;01mmatplotlib\u001b[39;00m\u001b[38;5;21;01m.\u001b[39;00m\u001b[38;5;21;01maxes\u001b[39;00m \u001b[38;5;28;01mimport\u001b[39;00m Axes\n\u001b[1;32m----> 4\u001b[0m \u001b[38;5;28;01mfrom\u001b[39;00m \u001b[38;5;21;01mscipy\u001b[39;00m\u001b[38;5;21;01m.\u001b[39;00m\u001b[38;5;21;01mstats\u001b[39;00m \u001b[38;5;28;01mimport\u001b[39;00m norm\n\u001b[0;32m      6\u001b[0m \u001b[38;5;28;01mclass\u001b[39;00m \u001b[38;5;21;01mPiAnimation\u001b[39;00m:\n\u001b[0;32m      7\u001b[0m     \u001b[38;5;28;01mdef\u001b[39;00m \u001b[38;5;21m__init__\u001b[39m(\u001b[38;5;28mself\u001b[39m, ax: Axes, ax_pi: Axes, ax_gaus: Axes):\n",
      "\u001b[1;31mModuleNotFoundError\u001b[0m: No module named 'scipy'"
     ]
    }
   ],
   "source": [
    "import matplotlib.pyplot as plt\n",
    "import numpy as np\n",
    "from matplotlib.axes import Axes\n",
    "from scipy.stats import norm\n",
    "\n",
    "class PiAnimation:\n",
    "    def __init__(self, ax: Axes, ax_pi: Axes, ax_gaus: Axes):\n",
    "        self.inner = 0\n",
    "        self.out = 0\n",
    "\n",
    "        self.xi, self.yi = [], []\n",
    "        self.xo, self.yo = [], []\n",
    "\n",
    "        ax.set_xlim(-1.0, 1.5)\n",
    "        ax.set_ylim(-1.0, 1.5)\n",
    "        ax.axis(\"off\")\n",
    "        ax.add_artist(plt.Circle((0.0, 0.0), 1, fill=False))\n",
    "        ax.add_artist(plt.Rectangle((-1, -1), 2, 2, fill=False))\n",
    "\n",
    "        self.line_i = ax.plot(self.xi, self.yi, \"ro\")[0]\n",
    "        self.line_o = ax.plot(self.xo, self.yo, \"bo\")[0]\n",
    "        self.text = ax.text(0.3, 1.1, \"\", fontdict={\"fontsize\": 32})\n",
    "        self.text_n = ax.text(-0.9, 1.1, \"\", fontdict={\"fontsize\": 32})\n",
    "\n",
    "        self.ax_pi = ax_pi\n",
    "        self.pi = []\n",
    "        self.pi_line = ax_pi.plot([], self.pi,\"-\")[0]\n",
    "        ax_pi.set_ylim(0, 2*np.pi)\n",
    "\n",
    "        self.ax_gaus = ax_gaus\n",
    "        self.gauss_point = np.linspace(0.5*np.pi, 1.5 * np.pi, 200)\n",
    "        self.gauss = ax_gaus.plot(self.gauss_point, np.zeros(200), \"\")[0]\n",
    "\n",
    "    def __call__(self, n):\n",
    "        x, y = 2*(np.random.random_sample(2) - 0.5)\n",
    "        if x ** 2 + y ** 2 <= 1:\n",
    "            self.inner += 1\n",
    "            self.xi.append(x)\n",
    "            self.yi.append(y)\n",
    "            self.line_i.set_data(self.xi, self.yi)\n",
    "        else:\n",
    "            self.out +=1\n",
    "            self.xo.append(x)\n",
    "            self.yo.append(y)\n",
    "            self.line_o.set_data(self.xo, self.yo)\n",
    "        N = self.inner + self.out\n",
    "        prob = self.inner/N\n",
    "        pi = 4*prob\n",
    "        self.pi.append(pi)\n",
    "        self.text.set_text(r\"$\\pi = {:.5}$\".format(pi))\n",
    "        self.text_n.set_text(\"N = {:5d}   \".format(N))\n",
    "\n",
    "        self.pi_line.set_data(range(N), self.pi)\n",
    "        self.ax_pi.relim()\n",
    "        self.ax_pi.autoscale()\n",
    "\n",
    "        mean, var = np.mean(self.pi), np.var(self.pi)\n",
    "\n",
    "        if N > 3:\n",
    "            self.gauss.set_data(self.gauss_point, norm.pdf(self.gauss_point, loc = mean, scale = var))\n",
    "            self.ax_gaus.relim()\n",
    "            self.ax_gaus.autoscale()\n",
    "        return self.line_i, self.line_o, self.text, self.text_n, self.pi_line, self.gauss"
   ]
  },
  {
   "cell_type": "code",
   "execution_count": 7,
   "metadata": {},
   "outputs": [
    {
     "data": {
      "application/javascript": [
       "/* Put everything inside the global mpl namespace */\n",
       "/* global mpl */\n",
       "window.mpl = {};\n",
       "\n",
       "mpl.get_websocket_type = function () {\n",
       "    if (typeof WebSocket !== 'undefined') {\n",
       "        return WebSocket;\n",
       "    } else if (typeof MozWebSocket !== 'undefined') {\n",
       "        return MozWebSocket;\n",
       "    } else {\n",
       "        alert(\n",
       "            'Your browser does not have WebSocket support. ' +\n",
       "                'Please try Chrome, Safari or Firefox ≥ 6. ' +\n",
       "                'Firefox 4 and 5 are also supported but you ' +\n",
       "                'have to enable WebSockets in about:config.'\n",
       "        );\n",
       "    }\n",
       "};\n",
       "\n",
       "mpl.figure = function (figure_id, websocket, ondownload, parent_element) {\n",
       "    this.id = figure_id;\n",
       "\n",
       "    this.ws = websocket;\n",
       "\n",
       "    this.supports_binary = this.ws.binaryType !== undefined;\n",
       "\n",
       "    if (!this.supports_binary) {\n",
       "        var warnings = document.getElementById('mpl-warnings');\n",
       "        if (warnings) {\n",
       "            warnings.style.display = 'block';\n",
       "            warnings.textContent =\n",
       "                'This browser does not support binary websocket messages. ' +\n",
       "                'Performance may be slow.';\n",
       "        }\n",
       "    }\n",
       "\n",
       "    this.imageObj = new Image();\n",
       "\n",
       "    this.context = undefined;\n",
       "    this.message = undefined;\n",
       "    this.canvas = undefined;\n",
       "    this.rubberband_canvas = undefined;\n",
       "    this.rubberband_context = undefined;\n",
       "    this.format_dropdown = undefined;\n",
       "\n",
       "    this.image_mode = 'full';\n",
       "\n",
       "    this.root = document.createElement('div');\n",
       "    this.root.setAttribute('style', 'display: inline-block');\n",
       "    this._root_extra_style(this.root);\n",
       "\n",
       "    parent_element.appendChild(this.root);\n",
       "\n",
       "    this._init_header(this);\n",
       "    this._init_canvas(this);\n",
       "    this._init_toolbar(this);\n",
       "\n",
       "    var fig = this;\n",
       "\n",
       "    this.waiting = false;\n",
       "\n",
       "    this.ws.onopen = function () {\n",
       "        fig.send_message('supports_binary', { value: fig.supports_binary });\n",
       "        fig.send_message('send_image_mode', {});\n",
       "        if (fig.ratio !== 1) {\n",
       "            fig.send_message('set_device_pixel_ratio', {\n",
       "                device_pixel_ratio: fig.ratio,\n",
       "            });\n",
       "        }\n",
       "        fig.send_message('refresh', {});\n",
       "    };\n",
       "\n",
       "    this.imageObj.onload = function () {\n",
       "        if (fig.image_mode === 'full') {\n",
       "            // Full images could contain transparency (where diff images\n",
       "            // almost always do), so we need to clear the canvas so that\n",
       "            // there is no ghosting.\n",
       "            fig.context.clearRect(0, 0, fig.canvas.width, fig.canvas.height);\n",
       "        }\n",
       "        fig.context.drawImage(fig.imageObj, 0, 0);\n",
       "    };\n",
       "\n",
       "    this.imageObj.onunload = function () {\n",
       "        fig.ws.close();\n",
       "    };\n",
       "\n",
       "    this.ws.onmessage = this._make_on_message_function(this);\n",
       "\n",
       "    this.ondownload = ondownload;\n",
       "};\n",
       "\n",
       "mpl.figure.prototype._init_header = function () {\n",
       "    var titlebar = document.createElement('div');\n",
       "    titlebar.classList =\n",
       "        'ui-dialog-titlebar ui-widget-header ui-corner-all ui-helper-clearfix';\n",
       "    var titletext = document.createElement('div');\n",
       "    titletext.classList = 'ui-dialog-title';\n",
       "    titletext.setAttribute(\n",
       "        'style',\n",
       "        'width: 100%; text-align: center; padding: 3px;'\n",
       "    );\n",
       "    titlebar.appendChild(titletext);\n",
       "    this.root.appendChild(titlebar);\n",
       "    this.header = titletext;\n",
       "};\n",
       "\n",
       "mpl.figure.prototype._canvas_extra_style = function (_canvas_div) {};\n",
       "\n",
       "mpl.figure.prototype._root_extra_style = function (_canvas_div) {};\n",
       "\n",
       "mpl.figure.prototype._init_canvas = function () {\n",
       "    var fig = this;\n",
       "\n",
       "    var canvas_div = (this.canvas_div = document.createElement('div'));\n",
       "    canvas_div.setAttribute(\n",
       "        'style',\n",
       "        'border: 1px solid #ddd;' +\n",
       "            'box-sizing: content-box;' +\n",
       "            'clear: both;' +\n",
       "            'min-height: 1px;' +\n",
       "            'min-width: 1px;' +\n",
       "            'outline: 0;' +\n",
       "            'overflow: hidden;' +\n",
       "            'position: relative;' +\n",
       "            'resize: both;'\n",
       "    );\n",
       "\n",
       "    function on_keyboard_event_closure(name) {\n",
       "        return function (event) {\n",
       "            return fig.key_event(event, name);\n",
       "        };\n",
       "    }\n",
       "\n",
       "    canvas_div.addEventListener(\n",
       "        'keydown',\n",
       "        on_keyboard_event_closure('key_press')\n",
       "    );\n",
       "    canvas_div.addEventListener(\n",
       "        'keyup',\n",
       "        on_keyboard_event_closure('key_release')\n",
       "    );\n",
       "\n",
       "    this._canvas_extra_style(canvas_div);\n",
       "    this.root.appendChild(canvas_div);\n",
       "\n",
       "    var canvas = (this.canvas = document.createElement('canvas'));\n",
       "    canvas.classList.add('mpl-canvas');\n",
       "    canvas.setAttribute('style', 'box-sizing: content-box;');\n",
       "\n",
       "    this.context = canvas.getContext('2d');\n",
       "\n",
       "    var backingStore =\n",
       "        this.context.backingStorePixelRatio ||\n",
       "        this.context.webkitBackingStorePixelRatio ||\n",
       "        this.context.mozBackingStorePixelRatio ||\n",
       "        this.context.msBackingStorePixelRatio ||\n",
       "        this.context.oBackingStorePixelRatio ||\n",
       "        this.context.backingStorePixelRatio ||\n",
       "        1;\n",
       "\n",
       "    this.ratio = (window.devicePixelRatio || 1) / backingStore;\n",
       "\n",
       "    var rubberband_canvas = (this.rubberband_canvas = document.createElement(\n",
       "        'canvas'\n",
       "    ));\n",
       "    rubberband_canvas.setAttribute(\n",
       "        'style',\n",
       "        'box-sizing: content-box; position: absolute; left: 0; top: 0; z-index: 1;'\n",
       "    );\n",
       "\n",
       "    // Apply a ponyfill if ResizeObserver is not implemented by browser.\n",
       "    if (this.ResizeObserver === undefined) {\n",
       "        if (window.ResizeObserver !== undefined) {\n",
       "            this.ResizeObserver = window.ResizeObserver;\n",
       "        } else {\n",
       "            var obs = _JSXTOOLS_RESIZE_OBSERVER({});\n",
       "            this.ResizeObserver = obs.ResizeObserver;\n",
       "        }\n",
       "    }\n",
       "\n",
       "    this.resizeObserverInstance = new this.ResizeObserver(function (entries) {\n",
       "        var nentries = entries.length;\n",
       "        for (var i = 0; i < nentries; i++) {\n",
       "            var entry = entries[i];\n",
       "            var width, height;\n",
       "            if (entry.contentBoxSize) {\n",
       "                if (entry.contentBoxSize instanceof Array) {\n",
       "                    // Chrome 84 implements new version of spec.\n",
       "                    width = entry.contentBoxSize[0].inlineSize;\n",
       "                    height = entry.contentBoxSize[0].blockSize;\n",
       "                } else {\n",
       "                    // Firefox implements old version of spec.\n",
       "                    width = entry.contentBoxSize.inlineSize;\n",
       "                    height = entry.contentBoxSize.blockSize;\n",
       "                }\n",
       "            } else {\n",
       "                // Chrome <84 implements even older version of spec.\n",
       "                width = entry.contentRect.width;\n",
       "                height = entry.contentRect.height;\n",
       "            }\n",
       "\n",
       "            // Keep the size of the canvas and rubber band canvas in sync with\n",
       "            // the canvas container.\n",
       "            if (entry.devicePixelContentBoxSize) {\n",
       "                // Chrome 84 implements new version of spec.\n",
       "                canvas.setAttribute(\n",
       "                    'width',\n",
       "                    entry.devicePixelContentBoxSize[0].inlineSize\n",
       "                );\n",
       "                canvas.setAttribute(\n",
       "                    'height',\n",
       "                    entry.devicePixelContentBoxSize[0].blockSize\n",
       "                );\n",
       "            } else {\n",
       "                canvas.setAttribute('width', width * fig.ratio);\n",
       "                canvas.setAttribute('height', height * fig.ratio);\n",
       "            }\n",
       "            canvas.setAttribute(\n",
       "                'style',\n",
       "                'width: ' + width + 'px; height: ' + height + 'px;'\n",
       "            );\n",
       "\n",
       "            rubberband_canvas.setAttribute('width', width);\n",
       "            rubberband_canvas.setAttribute('height', height);\n",
       "\n",
       "            // And update the size in Python. We ignore the initial 0/0 size\n",
       "            // that occurs as the element is placed into the DOM, which should\n",
       "            // otherwise not happen due to the minimum size styling.\n",
       "            if (fig.ws.readyState == 1 && width != 0 && height != 0) {\n",
       "                fig.request_resize(width, height);\n",
       "            }\n",
       "        }\n",
       "    });\n",
       "    this.resizeObserverInstance.observe(canvas_div);\n",
       "\n",
       "    function on_mouse_event_closure(name) {\n",
       "        return function (event) {\n",
       "            return fig.mouse_event(event, name);\n",
       "        };\n",
       "    }\n",
       "\n",
       "    rubberband_canvas.addEventListener(\n",
       "        'mousedown',\n",
       "        on_mouse_event_closure('button_press')\n",
       "    );\n",
       "    rubberband_canvas.addEventListener(\n",
       "        'mouseup',\n",
       "        on_mouse_event_closure('button_release')\n",
       "    );\n",
       "    rubberband_canvas.addEventListener(\n",
       "        'dblclick',\n",
       "        on_mouse_event_closure('dblclick')\n",
       "    );\n",
       "    // Throttle sequential mouse events to 1 every 20ms.\n",
       "    rubberband_canvas.addEventListener(\n",
       "        'mousemove',\n",
       "        on_mouse_event_closure('motion_notify')\n",
       "    );\n",
       "\n",
       "    rubberband_canvas.addEventListener(\n",
       "        'mouseenter',\n",
       "        on_mouse_event_closure('figure_enter')\n",
       "    );\n",
       "    rubberband_canvas.addEventListener(\n",
       "        'mouseleave',\n",
       "        on_mouse_event_closure('figure_leave')\n",
       "    );\n",
       "\n",
       "    canvas_div.addEventListener('wheel', function (event) {\n",
       "        if (event.deltaY < 0) {\n",
       "            event.step = 1;\n",
       "        } else {\n",
       "            event.step = -1;\n",
       "        }\n",
       "        on_mouse_event_closure('scroll')(event);\n",
       "    });\n",
       "\n",
       "    canvas_div.appendChild(canvas);\n",
       "    canvas_div.appendChild(rubberband_canvas);\n",
       "\n",
       "    this.rubberband_context = rubberband_canvas.getContext('2d');\n",
       "    this.rubberband_context.strokeStyle = '#000000';\n",
       "\n",
       "    this._resize_canvas = function (width, height, forward) {\n",
       "        if (forward) {\n",
       "            canvas_div.style.width = width + 'px';\n",
       "            canvas_div.style.height = height + 'px';\n",
       "        }\n",
       "    };\n",
       "\n",
       "    // Disable right mouse context menu.\n",
       "    this.rubberband_canvas.addEventListener('contextmenu', function (_e) {\n",
       "        event.preventDefault();\n",
       "        return false;\n",
       "    });\n",
       "\n",
       "    function set_focus() {\n",
       "        canvas.focus();\n",
       "        canvas_div.focus();\n",
       "    }\n",
       "\n",
       "    window.setTimeout(set_focus, 100);\n",
       "};\n",
       "\n",
       "mpl.figure.prototype._init_toolbar = function () {\n",
       "    var fig = this;\n",
       "\n",
       "    var toolbar = document.createElement('div');\n",
       "    toolbar.classList = 'mpl-toolbar';\n",
       "    this.root.appendChild(toolbar);\n",
       "\n",
       "    function on_click_closure(name) {\n",
       "        return function (_event) {\n",
       "            return fig.toolbar_button_onclick(name);\n",
       "        };\n",
       "    }\n",
       "\n",
       "    function on_mouseover_closure(tooltip) {\n",
       "        return function (event) {\n",
       "            if (!event.currentTarget.disabled) {\n",
       "                return fig.toolbar_button_onmouseover(tooltip);\n",
       "            }\n",
       "        };\n",
       "    }\n",
       "\n",
       "    fig.buttons = {};\n",
       "    var buttonGroup = document.createElement('div');\n",
       "    buttonGroup.classList = 'mpl-button-group';\n",
       "    for (var toolbar_ind in mpl.toolbar_items) {\n",
       "        var name = mpl.toolbar_items[toolbar_ind][0];\n",
       "        var tooltip = mpl.toolbar_items[toolbar_ind][1];\n",
       "        var image = mpl.toolbar_items[toolbar_ind][2];\n",
       "        var method_name = mpl.toolbar_items[toolbar_ind][3];\n",
       "\n",
       "        if (!name) {\n",
       "            /* Instead of a spacer, we start a new button group. */\n",
       "            if (buttonGroup.hasChildNodes()) {\n",
       "                toolbar.appendChild(buttonGroup);\n",
       "            }\n",
       "            buttonGroup = document.createElement('div');\n",
       "            buttonGroup.classList = 'mpl-button-group';\n",
       "            continue;\n",
       "        }\n",
       "\n",
       "        var button = (fig.buttons[name] = document.createElement('button'));\n",
       "        button.classList = 'mpl-widget';\n",
       "        button.setAttribute('role', 'button');\n",
       "        button.setAttribute('aria-disabled', 'false');\n",
       "        button.addEventListener('click', on_click_closure(method_name));\n",
       "        button.addEventListener('mouseover', on_mouseover_closure(tooltip));\n",
       "\n",
       "        var icon_img = document.createElement('img');\n",
       "        icon_img.src = '_images/' + image + '.png';\n",
       "        icon_img.srcset = '_images/' + image + '_large.png 2x';\n",
       "        icon_img.alt = tooltip;\n",
       "        button.appendChild(icon_img);\n",
       "\n",
       "        buttonGroup.appendChild(button);\n",
       "    }\n",
       "\n",
       "    if (buttonGroup.hasChildNodes()) {\n",
       "        toolbar.appendChild(buttonGroup);\n",
       "    }\n",
       "\n",
       "    var fmt_picker = document.createElement('select');\n",
       "    fmt_picker.classList = 'mpl-widget';\n",
       "    toolbar.appendChild(fmt_picker);\n",
       "    this.format_dropdown = fmt_picker;\n",
       "\n",
       "    for (var ind in mpl.extensions) {\n",
       "        var fmt = mpl.extensions[ind];\n",
       "        var option = document.createElement('option');\n",
       "        option.selected = fmt === mpl.default_extension;\n",
       "        option.innerHTML = fmt;\n",
       "        fmt_picker.appendChild(option);\n",
       "    }\n",
       "\n",
       "    var status_bar = document.createElement('span');\n",
       "    status_bar.classList = 'mpl-message';\n",
       "    toolbar.appendChild(status_bar);\n",
       "    this.message = status_bar;\n",
       "};\n",
       "\n",
       "mpl.figure.prototype.request_resize = function (x_pixels, y_pixels) {\n",
       "    // Request matplotlib to resize the figure. Matplotlib will then trigger a resize in the client,\n",
       "    // which will in turn request a refresh of the image.\n",
       "    this.send_message('resize', { width: x_pixels, height: y_pixels });\n",
       "};\n",
       "\n",
       "mpl.figure.prototype.send_message = function (type, properties) {\n",
       "    properties['type'] = type;\n",
       "    properties['figure_id'] = this.id;\n",
       "    this.ws.send(JSON.stringify(properties));\n",
       "};\n",
       "\n",
       "mpl.figure.prototype.send_draw_message = function () {\n",
       "    if (!this.waiting) {\n",
       "        this.waiting = true;\n",
       "        this.ws.send(JSON.stringify({ type: 'draw', figure_id: this.id }));\n",
       "    }\n",
       "};\n",
       "\n",
       "mpl.figure.prototype.handle_save = function (fig, _msg) {\n",
       "    var format_dropdown = fig.format_dropdown;\n",
       "    var format = format_dropdown.options[format_dropdown.selectedIndex].value;\n",
       "    fig.ondownload(fig, format);\n",
       "};\n",
       "\n",
       "mpl.figure.prototype.handle_resize = function (fig, msg) {\n",
       "    var size = msg['size'];\n",
       "    if (size[0] !== fig.canvas.width || size[1] !== fig.canvas.height) {\n",
       "        fig._resize_canvas(size[0], size[1], msg['forward']);\n",
       "        fig.send_message('refresh', {});\n",
       "    }\n",
       "};\n",
       "\n",
       "mpl.figure.prototype.handle_rubberband = function (fig, msg) {\n",
       "    var x0 = msg['x0'] / fig.ratio;\n",
       "    var y0 = (fig.canvas.height - msg['y0']) / fig.ratio;\n",
       "    var x1 = msg['x1'] / fig.ratio;\n",
       "    var y1 = (fig.canvas.height - msg['y1']) / fig.ratio;\n",
       "    x0 = Math.floor(x0) + 0.5;\n",
       "    y0 = Math.floor(y0) + 0.5;\n",
       "    x1 = Math.floor(x1) + 0.5;\n",
       "    y1 = Math.floor(y1) + 0.5;\n",
       "    var min_x = Math.min(x0, x1);\n",
       "    var min_y = Math.min(y0, y1);\n",
       "    var width = Math.abs(x1 - x0);\n",
       "    var height = Math.abs(y1 - y0);\n",
       "\n",
       "    fig.rubberband_context.clearRect(\n",
       "        0,\n",
       "        0,\n",
       "        fig.canvas.width / fig.ratio,\n",
       "        fig.canvas.height / fig.ratio\n",
       "    );\n",
       "\n",
       "    fig.rubberband_context.strokeRect(min_x, min_y, width, height);\n",
       "};\n",
       "\n",
       "mpl.figure.prototype.handle_figure_label = function (fig, msg) {\n",
       "    // Updates the figure title.\n",
       "    fig.header.textContent = msg['label'];\n",
       "};\n",
       "\n",
       "mpl.figure.prototype.handle_cursor = function (fig, msg) {\n",
       "    fig.rubberband_canvas.style.cursor = msg['cursor'];\n",
       "};\n",
       "\n",
       "mpl.figure.prototype.handle_message = function (fig, msg) {\n",
       "    fig.message.textContent = msg['message'];\n",
       "};\n",
       "\n",
       "mpl.figure.prototype.handle_draw = function (fig, _msg) {\n",
       "    // Request the server to send over a new figure.\n",
       "    fig.send_draw_message();\n",
       "};\n",
       "\n",
       "mpl.figure.prototype.handle_image_mode = function (fig, msg) {\n",
       "    fig.image_mode = msg['mode'];\n",
       "};\n",
       "\n",
       "mpl.figure.prototype.handle_history_buttons = function (fig, msg) {\n",
       "    for (var key in msg) {\n",
       "        if (!(key in fig.buttons)) {\n",
       "            continue;\n",
       "        }\n",
       "        fig.buttons[key].disabled = !msg[key];\n",
       "        fig.buttons[key].setAttribute('aria-disabled', !msg[key]);\n",
       "    }\n",
       "};\n",
       "\n",
       "mpl.figure.prototype.handle_navigate_mode = function (fig, msg) {\n",
       "    if (msg['mode'] === 'PAN') {\n",
       "        fig.buttons['Pan'].classList.add('active');\n",
       "        fig.buttons['Zoom'].classList.remove('active');\n",
       "    } else if (msg['mode'] === 'ZOOM') {\n",
       "        fig.buttons['Pan'].classList.remove('active');\n",
       "        fig.buttons['Zoom'].classList.add('active');\n",
       "    } else {\n",
       "        fig.buttons['Pan'].classList.remove('active');\n",
       "        fig.buttons['Zoom'].classList.remove('active');\n",
       "    }\n",
       "};\n",
       "\n",
       "mpl.figure.prototype.updated_canvas_event = function () {\n",
       "    // Called whenever the canvas gets updated.\n",
       "    this.send_message('ack', {});\n",
       "};\n",
       "\n",
       "// A function to construct a web socket function for onmessage handling.\n",
       "// Called in the figure constructor.\n",
       "mpl.figure.prototype._make_on_message_function = function (fig) {\n",
       "    return function socket_on_message(evt) {\n",
       "        if (evt.data instanceof Blob) {\n",
       "            var img = evt.data;\n",
       "            if (img.type !== 'image/png') {\n",
       "                /* FIXME: We get \"Resource interpreted as Image but\n",
       "                 * transferred with MIME type text/plain:\" errors on\n",
       "                 * Chrome.  But how to set the MIME type?  It doesn't seem\n",
       "                 * to be part of the websocket stream */\n",
       "                img.type = 'image/png';\n",
       "            }\n",
       "\n",
       "            /* Free the memory for the previous frames */\n",
       "            if (fig.imageObj.src) {\n",
       "                (window.URL || window.webkitURL).revokeObjectURL(\n",
       "                    fig.imageObj.src\n",
       "                );\n",
       "            }\n",
       "\n",
       "            fig.imageObj.src = (window.URL || window.webkitURL).createObjectURL(\n",
       "                img\n",
       "            );\n",
       "            fig.updated_canvas_event();\n",
       "            fig.waiting = false;\n",
       "            return;\n",
       "        } else if (\n",
       "            typeof evt.data === 'string' &&\n",
       "            evt.data.slice(0, 21) === 'data:image/png;base64'\n",
       "        ) {\n",
       "            fig.imageObj.src = evt.data;\n",
       "            fig.updated_canvas_event();\n",
       "            fig.waiting = false;\n",
       "            return;\n",
       "        }\n",
       "\n",
       "        var msg = JSON.parse(evt.data);\n",
       "        var msg_type = msg['type'];\n",
       "\n",
       "        // Call the  \"handle_{type}\" callback, which takes\n",
       "        // the figure and JSON message as its only arguments.\n",
       "        try {\n",
       "            var callback = fig['handle_' + msg_type];\n",
       "        } catch (e) {\n",
       "            console.log(\n",
       "                \"No handler for the '\" + msg_type + \"' message type: \",\n",
       "                msg\n",
       "            );\n",
       "            return;\n",
       "        }\n",
       "\n",
       "        if (callback) {\n",
       "            try {\n",
       "                // console.log(\"Handling '\" + msg_type + \"' message: \", msg);\n",
       "                callback(fig, msg);\n",
       "            } catch (e) {\n",
       "                console.log(\n",
       "                    \"Exception inside the 'handler_\" + msg_type + \"' callback:\",\n",
       "                    e,\n",
       "                    e.stack,\n",
       "                    msg\n",
       "                );\n",
       "            }\n",
       "        }\n",
       "    };\n",
       "};\n",
       "\n",
       "// from https://stackoverflow.com/questions/1114465/getting-mouse-location-in-canvas\n",
       "mpl.findpos = function (e) {\n",
       "    //this section is from http://www.quirksmode.org/js/events_properties.html\n",
       "    var targ;\n",
       "    if (!e) {\n",
       "        e = window.event;\n",
       "    }\n",
       "    if (e.target) {\n",
       "        targ = e.target;\n",
       "    } else if (e.srcElement) {\n",
       "        targ = e.srcElement;\n",
       "    }\n",
       "    if (targ.nodeType === 3) {\n",
       "        // defeat Safari bug\n",
       "        targ = targ.parentNode;\n",
       "    }\n",
       "\n",
       "    // pageX,Y are the mouse positions relative to the document\n",
       "    var boundingRect = targ.getBoundingClientRect();\n",
       "    var x = e.pageX - (boundingRect.left + document.body.scrollLeft);\n",
       "    var y = e.pageY - (boundingRect.top + document.body.scrollTop);\n",
       "\n",
       "    return { x: x, y: y };\n",
       "};\n",
       "\n",
       "/*\n",
       " * return a copy of an object with only non-object keys\n",
       " * we need this to avoid circular references\n",
       " * https://stackoverflow.com/a/24161582/3208463\n",
       " */\n",
       "function simpleKeys(original) {\n",
       "    return Object.keys(original).reduce(function (obj, key) {\n",
       "        if (typeof original[key] !== 'object') {\n",
       "            obj[key] = original[key];\n",
       "        }\n",
       "        return obj;\n",
       "    }, {});\n",
       "}\n",
       "\n",
       "mpl.figure.prototype.mouse_event = function (event, name) {\n",
       "    var canvas_pos = mpl.findpos(event);\n",
       "\n",
       "    if (name === 'button_press') {\n",
       "        this.canvas.focus();\n",
       "        this.canvas_div.focus();\n",
       "    }\n",
       "\n",
       "    var x = canvas_pos.x * this.ratio;\n",
       "    var y = canvas_pos.y * this.ratio;\n",
       "\n",
       "    this.send_message(name, {\n",
       "        x: x,\n",
       "        y: y,\n",
       "        button: event.button,\n",
       "        step: event.step,\n",
       "        guiEvent: simpleKeys(event),\n",
       "    });\n",
       "\n",
       "    /* This prevents the web browser from automatically changing to\n",
       "     * the text insertion cursor when the button is pressed.  We want\n",
       "     * to control all of the cursor setting manually through the\n",
       "     * 'cursor' event from matplotlib */\n",
       "    event.preventDefault();\n",
       "    return false;\n",
       "};\n",
       "\n",
       "mpl.figure.prototype._key_event_extra = function (_event, _name) {\n",
       "    // Handle any extra behaviour associated with a key event\n",
       "};\n",
       "\n",
       "mpl.figure.prototype.key_event = function (event, name) {\n",
       "    // Prevent repeat events\n",
       "    if (name === 'key_press') {\n",
       "        if (event.key === this._key) {\n",
       "            return;\n",
       "        } else {\n",
       "            this._key = event.key;\n",
       "        }\n",
       "    }\n",
       "    if (name === 'key_release') {\n",
       "        this._key = null;\n",
       "    }\n",
       "\n",
       "    var value = '';\n",
       "    if (event.ctrlKey && event.key !== 'Control') {\n",
       "        value += 'ctrl+';\n",
       "    }\n",
       "    else if (event.altKey && event.key !== 'Alt') {\n",
       "        value += 'alt+';\n",
       "    }\n",
       "    else if (event.shiftKey && event.key !== 'Shift') {\n",
       "        value += 'shift+';\n",
       "    }\n",
       "\n",
       "    value += 'k' + event.key;\n",
       "\n",
       "    this._key_event_extra(event, name);\n",
       "\n",
       "    this.send_message(name, { key: value, guiEvent: simpleKeys(event) });\n",
       "    return false;\n",
       "};\n",
       "\n",
       "mpl.figure.prototype.toolbar_button_onclick = function (name) {\n",
       "    if (name === 'download') {\n",
       "        this.handle_save(this, null);\n",
       "    } else {\n",
       "        this.send_message('toolbar_button', { name: name });\n",
       "    }\n",
       "};\n",
       "\n",
       "mpl.figure.prototype.toolbar_button_onmouseover = function (tooltip) {\n",
       "    this.message.textContent = tooltip;\n",
       "};\n",
       "\n",
       "///////////////// REMAINING CONTENT GENERATED BY embed_js.py /////////////////\n",
       "// prettier-ignore\n",
       "var _JSXTOOLS_RESIZE_OBSERVER=function(A){var t,i=new WeakMap,n=new WeakMap,a=new WeakMap,r=new WeakMap,o=new Set;function s(e){if(!(this instanceof s))throw new TypeError(\"Constructor requires 'new' operator\");i.set(this,e)}function h(){throw new TypeError(\"Function is not a constructor\")}function c(e,t,i,n){e=0 in arguments?Number(arguments[0]):0,t=1 in arguments?Number(arguments[1]):0,i=2 in arguments?Number(arguments[2]):0,n=3 in arguments?Number(arguments[3]):0,this.right=(this.x=this.left=e)+(this.width=i),this.bottom=(this.y=this.top=t)+(this.height=n),Object.freeze(this)}function d(){t=requestAnimationFrame(d);var s=new WeakMap,p=new Set;o.forEach((function(t){r.get(t).forEach((function(i){var r=t instanceof window.SVGElement,o=a.get(t),d=r?0:parseFloat(o.paddingTop),f=r?0:parseFloat(o.paddingRight),l=r?0:parseFloat(o.paddingBottom),u=r?0:parseFloat(o.paddingLeft),g=r?0:parseFloat(o.borderTopWidth),m=r?0:parseFloat(o.borderRightWidth),w=r?0:parseFloat(o.borderBottomWidth),b=u+f,F=d+l,v=(r?0:parseFloat(o.borderLeftWidth))+m,W=g+w,y=r?0:t.offsetHeight-W-t.clientHeight,E=r?0:t.offsetWidth-v-t.clientWidth,R=b+v,z=F+W,M=r?t.width:parseFloat(o.width)-R-E,O=r?t.height:parseFloat(o.height)-z-y;if(n.has(t)){var k=n.get(t);if(k[0]===M&&k[1]===O)return}n.set(t,[M,O]);var S=Object.create(h.prototype);S.target=t,S.contentRect=new c(u,d,M,O),s.has(i)||(s.set(i,[]),p.add(i)),s.get(i).push(S)}))})),p.forEach((function(e){i.get(e).call(e,s.get(e),e)}))}return s.prototype.observe=function(i){if(i instanceof window.Element){r.has(i)||(r.set(i,new Set),o.add(i),a.set(i,window.getComputedStyle(i)));var n=r.get(i);n.has(this)||n.add(this),cancelAnimationFrame(t),t=requestAnimationFrame(d)}},s.prototype.unobserve=function(i){if(i instanceof window.Element&&r.has(i)){var n=r.get(i);n.has(this)&&(n.delete(this),n.size||(r.delete(i),o.delete(i))),n.size||r.delete(i),o.size||cancelAnimationFrame(t)}},A.DOMRectReadOnly=c,A.ResizeObserver=s,A.ResizeObserverEntry=h,A}; // eslint-disable-line\n",
       "mpl.toolbar_items = [[\"Home\", \"Reset original view\", \"fa fa-home\", \"home\"], [\"Back\", \"Back to previous view\", \"fa fa-arrow-left\", \"back\"], [\"Forward\", \"Forward to next view\", \"fa fa-arrow-right\", \"forward\"], [\"\", \"\", \"\", \"\"], [\"Pan\", \"Left button pans, Right button zooms\\nx/y fixes axis, CTRL fixes aspect\", \"fa fa-arrows\", \"pan\"], [\"Zoom\", \"Zoom to rectangle\\nx/y fixes axis\", \"fa fa-square-o\", \"zoom\"], [\"\", \"\", \"\", \"\"], [\"Download\", \"Download plot\", \"fa fa-floppy-o\", \"download\"]];\n",
       "\n",
       "mpl.extensions = [\"eps\", \"jpeg\", \"pgf\", \"pdf\", \"png\", \"ps\", \"raw\", \"svg\", \"tif\", \"webp\"];\n",
       "\n",
       "mpl.default_extension = \"png\";/* global mpl */\n",
       "\n",
       "var comm_websocket_adapter = function (comm) {\n",
       "    // Create a \"websocket\"-like object which calls the given IPython comm\n",
       "    // object with the appropriate methods. Currently this is a non binary\n",
       "    // socket, so there is still some room for performance tuning.\n",
       "    var ws = {};\n",
       "\n",
       "    ws.binaryType = comm.kernel.ws.binaryType;\n",
       "    ws.readyState = comm.kernel.ws.readyState;\n",
       "    function updateReadyState(_event) {\n",
       "        if (comm.kernel.ws) {\n",
       "            ws.readyState = comm.kernel.ws.readyState;\n",
       "        } else {\n",
       "            ws.readyState = 3; // Closed state.\n",
       "        }\n",
       "    }\n",
       "    comm.kernel.ws.addEventListener('open', updateReadyState);\n",
       "    comm.kernel.ws.addEventListener('close', updateReadyState);\n",
       "    comm.kernel.ws.addEventListener('error', updateReadyState);\n",
       "\n",
       "    ws.close = function () {\n",
       "        comm.close();\n",
       "    };\n",
       "    ws.send = function (m) {\n",
       "        //console.log('sending', m);\n",
       "        comm.send(m);\n",
       "    };\n",
       "    // Register the callback with on_msg.\n",
       "    comm.on_msg(function (msg) {\n",
       "        //console.log('receiving', msg['content']['data'], msg);\n",
       "        var data = msg['content']['data'];\n",
       "        if (data['blob'] !== undefined) {\n",
       "            data = {\n",
       "                data: new Blob(msg['buffers'], { type: data['blob'] }),\n",
       "            };\n",
       "        }\n",
       "        // Pass the mpl event to the overridden (by mpl) onmessage function.\n",
       "        ws.onmessage(data);\n",
       "    });\n",
       "    return ws;\n",
       "};\n",
       "\n",
       "mpl.mpl_figure_comm = function (comm, msg) {\n",
       "    // This is the function which gets called when the mpl process\n",
       "    // starts-up an IPython Comm through the \"matplotlib\" channel.\n",
       "\n",
       "    var id = msg.content.data.id;\n",
       "    // Get hold of the div created by the display call when the Comm\n",
       "    // socket was opened in Python.\n",
       "    var element = document.getElementById(id);\n",
       "    var ws_proxy = comm_websocket_adapter(comm);\n",
       "\n",
       "    function ondownload(figure, _format) {\n",
       "        window.open(figure.canvas.toDataURL());\n",
       "    }\n",
       "\n",
       "    var fig = new mpl.figure(id, ws_proxy, ondownload, element);\n",
       "\n",
       "    // Call onopen now - mpl needs it, as it is assuming we've passed it a real\n",
       "    // web socket which is closed, not our websocket->open comm proxy.\n",
       "    ws_proxy.onopen();\n",
       "\n",
       "    fig.parent_element = element;\n",
       "    fig.cell_info = mpl.find_output_cell(\"<div id='\" + id + \"'></div>\");\n",
       "    if (!fig.cell_info) {\n",
       "        console.error('Failed to find cell for figure', id, fig);\n",
       "        return;\n",
       "    }\n",
       "    fig.cell_info[0].output_area.element.on(\n",
       "        'cleared',\n",
       "        { fig: fig },\n",
       "        fig._remove_fig_handler\n",
       "    );\n",
       "};\n",
       "\n",
       "mpl.figure.prototype.handle_close = function (fig, msg) {\n",
       "    var width = fig.canvas.width / fig.ratio;\n",
       "    fig.cell_info[0].output_area.element.off(\n",
       "        'cleared',\n",
       "        fig._remove_fig_handler\n",
       "    );\n",
       "    fig.resizeObserverInstance.unobserve(fig.canvas_div);\n",
       "\n",
       "    // Update the output cell to use the data from the current canvas.\n",
       "    fig.push_to_output();\n",
       "    var dataURL = fig.canvas.toDataURL();\n",
       "    // Re-enable the keyboard manager in IPython - without this line, in FF,\n",
       "    // the notebook keyboard shortcuts fail.\n",
       "    IPython.keyboard_manager.enable();\n",
       "    fig.parent_element.innerHTML =\n",
       "        '<img src=\"' + dataURL + '\" width=\"' + width + '\">';\n",
       "    fig.close_ws(fig, msg);\n",
       "};\n",
       "\n",
       "mpl.figure.prototype.close_ws = function (fig, msg) {\n",
       "    fig.send_message('closing', msg);\n",
       "    // fig.ws.close()\n",
       "};\n",
       "\n",
       "mpl.figure.prototype.push_to_output = function (_remove_interactive) {\n",
       "    // Turn the data on the canvas into data in the output cell.\n",
       "    var width = this.canvas.width / this.ratio;\n",
       "    var dataURL = this.canvas.toDataURL();\n",
       "    this.cell_info[1]['text/html'] =\n",
       "        '<img src=\"' + dataURL + '\" width=\"' + width + '\">';\n",
       "};\n",
       "\n",
       "mpl.figure.prototype.updated_canvas_event = function () {\n",
       "    // Tell IPython that the notebook contents must change.\n",
       "    IPython.notebook.set_dirty(true);\n",
       "    this.send_message('ack', {});\n",
       "    var fig = this;\n",
       "    // Wait a second, then push the new image to the DOM so\n",
       "    // that it is saved nicely (might be nice to debounce this).\n",
       "    setTimeout(function () {\n",
       "        fig.push_to_output();\n",
       "    }, 1000);\n",
       "};\n",
       "\n",
       "mpl.figure.prototype._init_toolbar = function () {\n",
       "    var fig = this;\n",
       "\n",
       "    var toolbar = document.createElement('div');\n",
       "    toolbar.classList = 'btn-toolbar';\n",
       "    this.root.appendChild(toolbar);\n",
       "\n",
       "    function on_click_closure(name) {\n",
       "        return function (_event) {\n",
       "            return fig.toolbar_button_onclick(name);\n",
       "        };\n",
       "    }\n",
       "\n",
       "    function on_mouseover_closure(tooltip) {\n",
       "        return function (event) {\n",
       "            if (!event.currentTarget.disabled) {\n",
       "                return fig.toolbar_button_onmouseover(tooltip);\n",
       "            }\n",
       "        };\n",
       "    }\n",
       "\n",
       "    fig.buttons = {};\n",
       "    var buttonGroup = document.createElement('div');\n",
       "    buttonGroup.classList = 'btn-group';\n",
       "    var button;\n",
       "    for (var toolbar_ind in mpl.toolbar_items) {\n",
       "        var name = mpl.toolbar_items[toolbar_ind][0];\n",
       "        var tooltip = mpl.toolbar_items[toolbar_ind][1];\n",
       "        var image = mpl.toolbar_items[toolbar_ind][2];\n",
       "        var method_name = mpl.toolbar_items[toolbar_ind][3];\n",
       "\n",
       "        if (!name) {\n",
       "            /* Instead of a spacer, we start a new button group. */\n",
       "            if (buttonGroup.hasChildNodes()) {\n",
       "                toolbar.appendChild(buttonGroup);\n",
       "            }\n",
       "            buttonGroup = document.createElement('div');\n",
       "            buttonGroup.classList = 'btn-group';\n",
       "            continue;\n",
       "        }\n",
       "\n",
       "        button = fig.buttons[name] = document.createElement('button');\n",
       "        button.classList = 'btn btn-default';\n",
       "        button.href = '#';\n",
       "        button.title = name;\n",
       "        button.innerHTML = '<i class=\"fa ' + image + ' fa-lg\"></i>';\n",
       "        button.addEventListener('click', on_click_closure(method_name));\n",
       "        button.addEventListener('mouseover', on_mouseover_closure(tooltip));\n",
       "        buttonGroup.appendChild(button);\n",
       "    }\n",
       "\n",
       "    if (buttonGroup.hasChildNodes()) {\n",
       "        toolbar.appendChild(buttonGroup);\n",
       "    }\n",
       "\n",
       "    // Add the status bar.\n",
       "    var status_bar = document.createElement('span');\n",
       "    status_bar.classList = 'mpl-message pull-right';\n",
       "    toolbar.appendChild(status_bar);\n",
       "    this.message = status_bar;\n",
       "\n",
       "    // Add the close button to the window.\n",
       "    var buttongrp = document.createElement('div');\n",
       "    buttongrp.classList = 'btn-group inline pull-right';\n",
       "    button = document.createElement('button');\n",
       "    button.classList = 'btn btn-mini btn-primary';\n",
       "    button.href = '#';\n",
       "    button.title = 'Stop Interaction';\n",
       "    button.innerHTML = '<i class=\"fa fa-power-off icon-remove icon-large\"></i>';\n",
       "    button.addEventListener('click', function (_evt) {\n",
       "        fig.handle_close(fig, {});\n",
       "    });\n",
       "    button.addEventListener(\n",
       "        'mouseover',\n",
       "        on_mouseover_closure('Stop Interaction')\n",
       "    );\n",
       "    buttongrp.appendChild(button);\n",
       "    var titlebar = this.root.querySelector('.ui-dialog-titlebar');\n",
       "    titlebar.insertBefore(buttongrp, titlebar.firstChild);\n",
       "};\n",
       "\n",
       "mpl.figure.prototype._remove_fig_handler = function (event) {\n",
       "    var fig = event.data.fig;\n",
       "    if (event.target !== this) {\n",
       "        // Ignore bubbled events from children.\n",
       "        return;\n",
       "    }\n",
       "    fig.close_ws(fig, {});\n",
       "};\n",
       "\n",
       "mpl.figure.prototype._root_extra_style = function (el) {\n",
       "    el.style.boxSizing = 'content-box'; // override notebook setting of border-box.\n",
       "};\n",
       "\n",
       "mpl.figure.prototype._canvas_extra_style = function (el) {\n",
       "    // this is important to make the div 'focusable\n",
       "    el.setAttribute('tabindex', 0);\n",
       "    // reach out to IPython and tell the keyboard manager to turn it's self\n",
       "    // off when our div gets focus\n",
       "\n",
       "    // location in version 3\n",
       "    if (IPython.notebook.keyboard_manager) {\n",
       "        IPython.notebook.keyboard_manager.register_events(el);\n",
       "    } else {\n",
       "        // location in version 2\n",
       "        IPython.keyboard_manager.register_events(el);\n",
       "    }\n",
       "};\n",
       "\n",
       "mpl.figure.prototype._key_event_extra = function (event, _name) {\n",
       "    // Check for shift+enter\n",
       "    if (event.shiftKey && event.which === 13) {\n",
       "        this.canvas_div.blur();\n",
       "        // select the cell after this one\n",
       "        var index = IPython.notebook.find_cell_index(this.cell_info[0]);\n",
       "        IPython.notebook.select(index + 1);\n",
       "    }\n",
       "};\n",
       "\n",
       "mpl.figure.prototype.handle_save = function (fig, _msg) {\n",
       "    fig.ondownload(fig, null);\n",
       "};\n",
       "\n",
       "mpl.find_output_cell = function (html_output) {\n",
       "    // Return the cell and output element which can be found *uniquely* in the notebook.\n",
       "    // Note - this is a bit hacky, but it is done because the \"notebook_saving.Notebook\"\n",
       "    // IPython event is triggered only after the cells have been serialised, which for\n",
       "    // our purposes (turning an active figure into a static one), is too late.\n",
       "    var cells = IPython.notebook.get_cells();\n",
       "    var ncells = cells.length;\n",
       "    for (var i = 0; i < ncells; i++) {\n",
       "        var cell = cells[i];\n",
       "        if (cell.cell_type === 'code') {\n",
       "            for (var j = 0; j < cell.output_area.outputs.length; j++) {\n",
       "                var data = cell.output_area.outputs[j];\n",
       "                if (data.data) {\n",
       "                    // IPython >= 3 moved mimebundle to data attribute of output\n",
       "                    data = data.data;\n",
       "                }\n",
       "                if (data['text/html'] === html_output) {\n",
       "                    return [cell, data, j];\n",
       "                }\n",
       "            }\n",
       "        }\n",
       "    }\n",
       "};\n",
       "\n",
       "// Register the function which deals with the matplotlib target/channel.\n",
       "// The kernel may be null if the page has been refreshed.\n",
       "if (IPython.notebook.kernel !== null) {\n",
       "    IPython.notebook.kernel.comm_manager.register_target(\n",
       "        'matplotlib',\n",
       "        mpl.mpl_figure_comm\n",
       "    );\n",
       "}\n"
      ],
      "text/plain": [
       "<IPython.core.display.Javascript object>"
      ]
     },
     "metadata": {},
     "output_type": "display_data"
    },
    {
     "data": {
      "text/html": [
       "<img src=\"data:image/png;base64,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\" width=\"1400.32\">"
      ],
      "text/plain": [
       "<IPython.core.display.HTML object>"
      ]
     },
     "metadata": {},
     "output_type": "display_data"
    },
    {
     "ename": "NameError",
     "evalue": "name 'PiAnimation' is not defined",
     "output_type": "error",
     "traceback": [
      "\u001b[1;31m---------------------------------------------------------------------------\u001b[0m",
      "\u001b[1;31mNameError\u001b[0m                                 Traceback (most recent call last)",
      "Input \u001b[1;32mIn [7]\u001b[0m, in \u001b[0;36m<cell line: 8>\u001b[1;34m()\u001b[0m\n\u001b[0;32m      6\u001b[0m ax2 \u001b[38;5;241m=\u001b[39m plt\u001b[38;5;241m.\u001b[39msubplot(\u001b[38;5;241m222\u001b[39m)\n\u001b[0;32m      7\u001b[0m ax3 \u001b[38;5;241m=\u001b[39m plt\u001b[38;5;241m.\u001b[39msubplot(\u001b[38;5;241m224\u001b[39m)\n\u001b[1;32m----> 8\u001b[0m pi_ani \u001b[38;5;241m=\u001b[39m \u001b[43mPiAnimation\u001b[49m(ax1, ax2, ax3)\n\u001b[0;32m      9\u001b[0m anim \u001b[38;5;241m=\u001b[39m FuncAnimation(fig, pi_ani, frames\u001b[38;5;241m=\u001b[39m\u001b[38;5;241m10_000\u001b[39m, interval\u001b[38;5;241m=\u001b[39m\u001b[38;5;241m50\u001b[39m, blit\u001b[38;5;241m=\u001b[39m\u001b[38;5;28;01mTrue\u001b[39;00m)\n\u001b[0;32m     10\u001b[0m plt\u001b[38;5;241m.\u001b[39mshow()\n",
      "\u001b[1;31mNameError\u001b[0m: name 'PiAnimation' is not defined"
     ]
    }
   ],
   "source": [
    "from matplotlib.animation import FuncAnimation\n",
    "\n",
    "\n",
    "fig = plt.figure(figsize=(14,7))\n",
    "ax1 = plt.subplot(121)\n",
    "ax2 = plt.subplot(222)\n",
    "ax3 = plt.subplot(224)\n",
    "pi_ani = PiAnimation(ax1, ax2, ax3)\n",
    "anim = FuncAnimation(fig, pi_ani, frames=10_000, interval=50, blit=True)\n",
    "plt.show()"
   ]
  },
  {
   "cell_type": "code",
   "execution_count": null,
   "metadata": {},
   "outputs": [],
   "source": []
  }
 ],
 "metadata": {
  "kernelspec": {
   "display_name": "Python 3 (ipykernel)",
   "language": "python",
   "name": "python3"
  },
  "language_info": {
   "codemirror_mode": {
    "name": "ipython",
    "version": 3
   },
   "file_extension": ".py",
   "mimetype": "text/x-python",
   "name": "python",
   "nbconvert_exporter": "python",
   "pygments_lexer": "ipython3",
   "version": "3.10.6"
  }
 },
 "nbformat": 4,
 "nbformat_minor": 4
}
