{
 "cells": [
  {
   "cell_type": "code",
   "execution_count": 2,
   "id": "f10088e1",
   "metadata": {},
   "outputs": [
    {
     "name": "stdout",
     "output_type": "stream",
     "text": [
      "fgjk kifjg ;lwjgf\n",
      "{'g', 'f', 'j'}\n"
     ]
    }
   ],
   "source": [
    "#Ex 1\n",
    "s = input()\n",
    "a = s.split()\n",
    "A = set(a[0])\n",
    "B = set(a[1])\n",
    "C = set(a[2])\n",
    "D = A & B & C\n",
    "print(D)\n"
   ]
  },
  {
   "cell_type": "code",
   "execution_count": 12,
   "id": "41b80b27",
   "metadata": {},
   "outputs": [
    {
     "name": "stdout",
     "output_type": "stream",
     "text": [
      "qwe rty uio asd fgh\n",
      "{'q', 'e', 'w'}\n",
      "{'q', 'e', 'w'}\n",
      "set()\n",
      "set()\n",
      "set()\n",
      "set()\n"
     ]
    }
   ],
   "source": [
    "#Ex 2\n",
    "s = input()\n",
    "a = s.split()\n",
    "b = []\n",
    "for i in range(len(a)):\n",
    "    b.append(set(a[i]))\n",
    "C = b[0]\n",
    "for i in range(len(b)):\n",
    "    C &= b[i]\n",
    "print(C)"
   ]
  },
  {
   "cell_type": "code",
   "execution_count": 16,
   "id": "b9dc1bbb",
   "metadata": {
    "scrolled": true
   },
   "outputs": [
    {
     "name": "stdout",
     "output_type": "stream",
     "text": [
      "3434 5656 7878\n",
      "set()\n"
     ]
    }
   ],
   "source": [
    "#Ex 3\n",
    "s = input()\n",
    "a = s.split()\n",
    "b = []\n",
    "for i in range(len(a)):\n",
    "    b.append(set(a[i]))\n",
    "C = b[0]\n",
    "i = 0\n",
    "while i < len(b):\n",
    "    C &= b[i]\n",
    "    i +=1\n",
    "print(C)\n",
    "\n"
   ]
  },
  {
   "cell_type": "code",
   "execution_count": 20,
   "id": "6a6909e2",
   "metadata": {},
   "outputs": [
    {
     "name": "stdout",
     "output_type": "stream",
     "text": [
      "{97: 'a', 98: 'b', 99: 'c', 100: 'd', 101: 'e', 102: 'f', 103: 'g', 104: 'h', 105: 'i', 106: 'j', 107: 'k', 108: 'l', 109: 'm', 110: 'n', 111: 'o', 112: 'p', 113: 'q', 114: 'r', 115: 's', 116: 't', 117: 'u', 118: 'v', 119: 'w', 120: 'x', 121: 'y', 122: 'z'}\n",
      "{97: 'a', 98: 'b', 99: 'c', 100: 'd', 101: 'e', 102: 'f', 103: 'g', 104: 'h', 105: 'i', 106: 'j', 107: 'k', 108: 'l', 109: 'm', 110: 'n', 111: 'o', 112: 'p', 113: 'q', 114: 'r', 115: 's', 116: 't', 117: 'u', 118: 'v', 119: 'w', 120: 'x', 121: 'y', 122: 'z', 65: 'A', 66: 'B', 67: 'C', 68: 'D', 69: 'E', 70: 'F', 71: 'G', 72: 'H', 73: 'I', 74: 'J', 75: 'K', 76: 'L', 77: 'M', 78: 'N', 79: 'O', 80: 'P', 81: 'Q', 82: 'R', 83: 'S', 84: 'T', 85: 'U', 86: 'V', 87: 'W', 88: 'X', 89: 'Y', 90: 'Z'}\n"
     ]
    }
   ],
   "source": [
    "#Ex 4\n",
    "d = {i: chr(i) for i in range(97, 123)}\n",
    "print(d)\n",
    "D = {i: chr(i) for i in range(65, 91)}\n",
    "d |= D\n",
    "print(d)"
   ]
  },
  {
   "cell_type": "code",
   "execution_count": 21,
   "id": "198669d4",
   "metadata": {},
   "outputs": [
    {
     "name": "stdout",
     "output_type": "stream",
     "text": [
      "{'a': 1, 'b': 2, 'c': 3, 'd': 4, 'e': 5, 'f': 6, 'g': 7, 'h': 8, 'i': 9, 'j': 10, 'k': 11, 'l': 12, 'm': 13, 'n': 14, 'o': 15, 'p': 16, 'q': 17, 'r': 18, 's': 19, 't': 20, 'u': 21, 'v': 22, 'w': 23, 'x': 24, 'y': 25, 'z': 26}\n"
     ]
    }
   ],
   "source": [
    "#Ex 5\n",
    "D = {chr(i): (i - 96) for i in range(97, 123)}\n",
    "print(D)"
   ]
  },
  {
   "cell_type": "code",
   "execution_count": 25,
   "id": "8ab93458",
   "metadata": {},
   "outputs": [
    {
     "name": "stdout",
     "output_type": "stream",
     "text": [
      "abcabcabcd\n",
      "10\n"
     ]
    }
   ],
   "source": [
    "#Ex 6\n",
    "D = {chr(i): (i - 96) for i in range(97, 123)}\n",
    "str = input()\n",
    "a = set(str)\n",
    "sum = 0\n",
    "for x in a:\n",
    "    sum += D[x]\n",
    "print(sum)"
   ]
  },
  {
   "cell_type": "code",
   "execution_count": null,
   "id": "231543a8",
   "metadata": {},
   "outputs": [
    {
     "name": "stdout",
     "output_type": "stream",
     "text": [
      "3\n"
     ]
    }
   ],
   "source": [
    "#Ex 7\n",
    "n = int(input())\n",
    "d = dict()\n",
    "for i in range(n):\n",
    "    s = input()\n",
    "    a = s.split()\n",
    "    d.update([a])\n",
    "print(d)\n",
    "s = input()\n",
    "if s == (key in d):\n",
    "    print(d[s])\n",
    "else:\n",
    "    print(d.get(key[s]))"
   ]
  },
  {
   "cell_type": "code",
   "execution_count": null,
   "id": "fcc99d46",
   "metadata": {},
   "outputs": [],
   "source": []
  }
 ],
 "metadata": {
  "kernelspec": {
   "display_name": "Python 3 (ipykernel)",
   "language": "python",
   "name": "python3"
  },
  "language_info": {
   "codemirror_mode": {
    "name": "ipython",
    "version": 3
   },
   "file_extension": ".py",
   "mimetype": "text/x-python",
   "name": "python",
   "nbconvert_exporter": "python",
   "pygments_lexer": "ipython3",
   "version": "3.10.6"
  }
 },
 "nbformat": 4,
 "nbformat_minor": 5
}
